{
 "cells": [
  {
   "cell_type": "markdown",
   "metadata": {},
   "source": [
    "# Skip this one, I have uploaded it just for myself to remind me how to clean a dataframe of many CVs- needs to be explored further. "
   ]
  },
  {
   "cell_type": "code",
   "execution_count": 77,
   "metadata": {},
   "outputs": [],
   "source": [
    "import docx\n",
    "import re"
   ]
  },
  {
   "cell_type": "code",
   "execution_count": 78,
   "metadata": {},
   "outputs": [],
   "source": [
    "import pandas as pd\n",
    "import numpy as np\n",
    "import datetime\n",
    "import warnings\n",
    "\n",
    "warnings.filterwarnings('ignore')\n",
    "warnings.filterwarnings(\"ignore\", message=\"numpy.ufunc size changed\")\n",
    "\n",
    "import matplotlib.pyplot as plt\n",
    "import seaborn as sns\n",
    "sns.set_style(\"whitegrid\")\n",
    "\n",
    "%matplotlib inline\n",
    "from collections import Counter\n",
    "import nltk\n",
    "from nltk.tokenize import sent_tokenize, word_tokenize \n",
    "from nltk.text import Text\n",
    "import docx2txt"
   ]
  },
  {
   "cell_type": "code",
   "execution_count": 81,
   "metadata": {},
   "outputs": [],
   "source": [
    "import glob"
   ]
  },
  {
   "cell_type": "code",
   "execution_count": 82,
   "metadata": {},
   "outputs": [],
   "source": [
    "import os.path"
   ]
  },
  {
   "cell_type": "code",
   "execution_count": 83,
   "metadata": {},
   "outputs": [],
   "source": [
    "import glob\n",
    "text = ''\n",
    "for file in glob.glob('CV_doc/*.docx'):\n",
    "    text += docx2txt.process(file)"
   ]
  },
  {
   "cell_type": "code",
   "execution_count": 144,
   "metadata": {},
   "outputs": [
    {
     "name": "stdout",
     "output_type": "stream",
     "text": [
      "[['Name,tokenized_text\\n', 'CV 1.docx,\"[\\'zoe\\', \\'zhang\\', \\'xiaming\\', \\'profile\\', \\'personal\\', \\'qualities\\', \\'beliefs\\', \\'make\\', \\'ideal\\', \\'person\\', \\'accounting\\', \\'profession\\', \\'honest\\', \\'able\\', \\'learn\\', \\'quickly\\', \\'work\\', \\'well\\', \\'stress\\', \\'environments\\', \\'particularly\\', \\'possess\\', \\'strong\\', \\'sense\\', \\'responsibility\\', \\'analytical\\', \\'mind\\', \\'eye\\', \\'details\\', \\'good\\', \\'communication\\', \\'interpersonal\\', \\'skills\\', \\'personal\\', \\'details\\', \\'mobile\\', \\'97297189\\', \\'email\\', \\'zxmxm\\', \\'singnet\\', \\'com\\', \\'sg\\', \\'place\\', \\'living\\', \\'block\\', \\'127a\\', \\'kim\\', \\'tian\\', \\'road\\', \\'06\\', \\'527\\', \\'s161127\\', \\'near\\', \\'tiong\\', \\'bahru\\', \\'mrt\\', \\'nationality\\', \\'china\\', \\'singapore\\', \\'pr\\', \\'since\\', \\'2005\\', \\'date\\', \\'birth\\', \\'27\\', \\'march\\', \\'1968\\', \\'marital\\', \\'status\\', \\'single\\', \\'education\\', \\'2006\\', \\'2008\\', \\'acca\\', \\'qualification\\', \\'fully\\', \\'completed\\', \\'2008\\', \\'3rd\\', \\'placing\\', \\'singapore\\', \\'paper\\', \\'p4\\', \\'advanced\\', \\'financial\\', \\'management\\', \\'bachelor\\', \\'science\\', \\'first\\', \\'class\\', \\'honours\\', \\'applied\\', \\'accounting\\', \\'oxford\\', \\'brookes\\', \\'university\\', \\'1986\\', \\'1990\\', \\'bachelor\\', \\'engineering\\', \\'automatic\\', \\'control\\', \\'beijing\\', \\'university\\', \\'aeronautics\\', \\'astronautics\\', \\'accounting\\', \\'skills\\', \\'8\\', \\'years\\', \\'accounting\\', \\'experience\\', \\'various\\', \\'industries\\', \\'agribusiness\\', \\'reit\\', \\'strong\\', \\'theoretical\\', \\'working\\', \\'knowledge\\', \\'latest\\', \\'frss\\', \\'knowledge\\', \\'us\\', \\'gaap\\', \\'good\\', \\'experience\\', \\'financial\\', \\'reporting\\', \\'general\\', \\'ledger\\', \\'statutory\\', \\'reports\\', \\'experience\\', \\'handling\\', \\'current\\', \\'deferred\\', \\'taxes\\', \\'wht\\', \\'gst\\', \\'experience\\', \\'management\\', \\'reporting\\', \\'financial\\', \\'analysis\\', \\'budgeting\\', \\'forecasting\\', \\'solid\\', \\'working\\', \\'experience\\', \\'consolidation\\', \\'complex\\', \\'group\\', \\'structure\\', \\'group\\', \\'reporting\\', \\'sgx\\', \\'listed\\', \\'mncs\\', \\'including\\', \\'4\\', \\'years\\', \\'fortune\\', \\'s\\', \\'global\\', \\'500\\', \\'conglomerate\\', \\'experience\\', \\'system\\', \\'implementation\\', \\'enhancement\\', \\'4\\', \\'years\\', \\'experience\\', \\'people\\', \\'management\\', \\'computer\\', \\'skills\\', \\'microsoft\\', \\'office\\', \\'applications\\', \\'excel\\', \\'complex\\', \\'formulae\\', \\'pivot\\', \\'table\\', \\'macro\\', \\'word\\', \\'powerpoint\\', \\'hfm\\', \\'hyperion\\', \\'ibm\\', \\'cognos\\', \\'controller\\', \\'bpc\\', \\'bcs\\', \\'tm1\\', \\'sap\\', \\'r3\\', \\'yardi\\', \\'language\\', \\'english\\', \\'mandarin\\', \\'professional\\', \\'experience\\', \\'2\\', \\'2017\\', \\'5\\', \\'2017\\', \\'contract\\', \\'assistant\\', \\'finance\\', \\'manager\\', \\'ascendas\\', \\'hospitality\\', \\'fund\\', \\'management\\', \\'pte\\', \\'ltd\\', \\'take\\', \\'charge\\', \\'group\\', \\'consolidation\\', \\'financial\\', \\'management\\', \\'reporting\\', \\'function\\', \\'handling\\', \\'yearend\\', \\'mar\\', \\'17\\', \\'month\\', \\'end\\', \\'feb\\', \\'17\\', \\'apr\\', \\'17\\', \\'closing\\', \\'provide\\', \\'financial\\', \\'management\\', \\'accounting\\', \\'support\\', \\'guidance\\', \\'singapore\\', \\'overseas\\', \\'companies\\', \\'ensure\\', \\'timely\\', \\'submission\\', \\'monthly\\', \\'accounts\\', \\'prepare\\', \\'quarterly\\', \\'sgx\\', \\'announcements\\', \\'prepare\\', \\'annual\\', \\'reports\\', \\'draft\\', \\'notes\\', \\'accounts\\', \\'liaise\\', \\'auditors\\', \\'prepare\\', \\'audit\\', \\'schedules\\', \\'attend\\', \\'auditor\\', \\'s\\', \\'queries\\', \\'prepare\\', \\'group\\', \\'reporting\\', \\'package\\', \\'liaise\\', \\'group\\', \\'finance\\', \\'team\\', \\'reason\\', \\'leaving\\', \\'contract\\', \\'offer\\', \\'covering\\', \\'critical\\', \\'busiest\\', \\'period\\', \\'4\\', \\'months\\', \\'around\\', \\'financial\\', \\'year\\', \\'end\\', \\'mar\\', \\'17\\', \\'12\\', \\'2015\\', \\'5\\', \\'2016\\', \\'permanent\\', \\'senior\\', \\'accountant\\', \\'amphenol\\', \\'fci\\', \\'asia\\', \\'pte\\', \\'ltd\\', \\'international\\', \\'connector\\', \\'cable\\', \\'assembly\\', \\'solutions\\', \\'manufacturer\\', \\'acquired\\', \\'amphenol\\', \\'based\\', \\'usa\\', \\'2016\\', \\'review\\', \\'subsidiaries\\', \\'accounts\\', \\'reconcile\\', \\'intercompany\\', \\'balances\\', \\'transactions\\', \\'post\\', \\'consol\\', \\'adjustment\\', \\'entries\\', \\'prepare\\', \\'consolidated\\', \\'accounts\\', \\'fci\\', \\'group\\', \\'29\\', \\'entities\\', \\'incorporated\\', \\'europe\\', \\'north\\', \\'america\\', \\'asia\\', \\'pension\\', \\'accounting\\', \\'handle\\', \\'pension\\', \\'accounting\\', \\'external\\', \\'advisor\\', \\'towers\\', \\'waston\\', \\'guide\\', \\'communicate\\', \\'subsidiaries\\', \\'pension\\', \\'accounting\\', \\'draft\\', \\'annual\\', \\'statutory\\', \\'report\\', \\'fci\\', \\'group\\', \\'fy2015\\', \\'review\\', \\'subsidiaries\\', \\'annual\\', \\'statutory\\', \\'reports\\', \\'fy2015\\', \\'reason\\', \\'leaving\\', \\'voluntary\\', \\'redundancy\\', \\'due\\', \\'restructuring\\', \\'acquisition\\', \\'amphenol\\', \\'3\\', \\'2015\\', \\'5\\', \\'2015\\', \\'contract\\', \\'senior\\', \\'accountant\\', \\'mapletree\\', \\'investments\\', \\'pte\\', \\'ltd\\', \\'temasek\\', \\'linked\\', \\'leading\\', \\'real\\', \\'estate\\', \\'development\\', \\'investment\\', \\'capital\\', \\'management\\', \\'company\\', \\'offer\\', \\'made\\', \\'due\\', \\'impact\\', \\'newly\\', \\'effective\\', \\'consolidation\\', \\'standards\\', \\'year\\', \\'2015\\', \\'frs110\\', \\'frs111\\', \\'frs112\\', \\'assist\\', \\'senior\\', \\'finance\\', \\'manager\\', \\'mapletree\\', \\'commercial\\', \\'trust\\', \\'drafting\\', \\'fy14\\', \\'15\\', \\'annual\\', \\'reports\\', \\'preparing\\', \\'quarterly\\', \\'results\\', \\'announcement\\', \\'etc\\', \\'reason\\', \\'leaving\\', \\'short\\', \\'term\\', \\'contract\\', \\'offer\\', \\'mainly\\', \\'drafting\\', \\'annual\\', \\'statutory\\', \\'report\\', \\'contacted\\', \\'mapletree\\', \\'perm\\', \\'offer\\', \\'senior\\', \\'accountant\\', \\'nov\\', \\'15\\', \\'accepted\\', \\'due\\', \\'high\\', \\'turnover\\', \\'rate\\', \\'post\\', \\'professional\\', \\'10\\', \\'2014\\', \\'01\\', \\'2015\\', \\'experience\\', \\'permanent\\', \\'assistant\\', \\'finance\\', \\'manager\\', \\'olam\\', \\'international\\', \\'ltd\\', \\'temasek\\', \\'linked\\', \\'sgx\\', \\'listed\\', \\'leading\\', \\'agri\\', \\'business\\', \\'operates\\', \\'65\\', \\'countries\\', \\'assist\\', \\'accountant\\', \\'following\\', \\'duties\\', \\'one\\', \\'17\\', \\'product\\', \\'teams\\', \\'point\\', \\'contact\\', \\'liaise\\', \\'traders\\', \\'subsidiaries\\', \\'various\\', \\'departments\\', \\'guide\\', \\'ssc\\', \\'general\\', \\'ledger\\', \\'compile\\', \\'prepare\\', \\'accounts\\', \\'p\\', \\'l\\', \\'bs\\', \\'assigned\\', \\'bu\\', \\'prepare\\', \\'system\\', \\'generated\\', \\'consolidated\\', \\'bs\\', \\'pl\\', \\'internal\\', \\'use\\', \\'assist\\', \\'product\\', \\'financial\\', \\'controller\\', \\'liaising\\', \\'subsidiaries\\', \\'kpi\\', \\'variance\\', \\'analysis\\', \\'rolling\\', \\'forecast\\', \\'reason\\', \\'leaving\\', \\'newly\\', \\'created\\', \\'yet\\', \\'dispensable\\', \\'role\\', \\'without\\', \\'well\\', \\'defined\\', \\'job\\', \\'scope\\', \\'clear\\', \\'direction\\', \\'position\\', \\'remained\\', \\'vacant\\', \\'least\\', \\'one\\', \\'year\\', \\'resignation\\', \\'probably\\', \\'eliminated\\', \\'end\\', \\'p\\', \\'06\\', \\'2014\\', \\'10\\', \\'2014\\', \\'permanent\\', \\'group\\', \\'accountant\\', \\'kuok\\', \\'singapore\\', \\'limited\\', \\'mnc\\', \\'300\\', \\'subsidiaries\\', \\'associates\\', \\'involved\\', \\'shipping\\', \\'warehousing\\', \\'trading\\', \\'chemicals\\', \\'scrap\\', \\'steel\\', \\'fertilizers\\', \\'sugar\\', \\'products\\', \\'responsible\\', \\'group\\', \\'reporting\\', \\'newly\\', \\'acquired\\', \\'shipyard\\', \\'group\\', \\'set\\', \\'reporting\\', \\'system\\', \\'formulate\\', \\'consolidation\\', \\'package\\', \\'group\\', \\'prepare\\', \\'monthly\\', \\'consolidated\\', \\'financial\\', \\'statements\\', \\'group\\', \\'prepare\\', \\'monthly\\', \\'flash\\', \\'quarterly\\', \\'executive\\', \\'summary\\', \\'consolidate\\', \\'monthly\\', \\'cash\\', \\'flow\\', \\'forecast\\', \\'reason\\', \\'leaving\\', \\'daily\\', \\'commute\\', \\'time\\', \\'long\\', \\'3\\', \\'30\\', \\'4\\', \\'00\\', \\'hours\\', \\'due\\', \\'change\\', \\'work\\', \\'location\\', \\'working\\', \\'hours\\', \\'03\\', \\'2010\\', \\'03\\', \\'2014\\', \\'permanent\\', \\'accountant\\', \\'group\\', \\'accounts\\', \\'wilmar\\', \\'international\\', \\'ltd\\', \\'fortune\\', \\'s\\', \\'global\\', \\'500\\', \\'sgx\\', \\'listed\\', \\'mnc\\', \\'400\\', \\'subsidiaries\\', \\'associates\\', \\'worldwide\\', \\'handle\\', \\'full\\', \\'sets\\', \\'accounts\\', \\'investment\\', \\'holding\\', \\'companies\\', \\'prepare\\', \\'statutory\\', \\'reports\\', \\'work\\', \\'tax\\', \\'division\\', \\'tax\\', \\'matters\\', \\'review\\', \\'reporting\\', \\'package\\', \\'submitted\\', \\'subsidiaries\\', \\'associates\\', \\'prepare\\', \\'monthly\\', \\'consolidated\\', \\'accounts\\', \\'supporting\\', \\'schedules\\', \\'subgroups\\', \\'assigned\\', \\'40\\', \\'entities\\', \\'various\\', \\'functional\\', \\'currencies\\', \\'incorporated\\', \\'6\\', \\'different\\', \\'countries\\', \\'evolving\\', \\'nci\\', \\'goodwill\\', \\'associates\\', \\'etc\\', \\'prepare\\', \\'monthly\\', \\'consolidated\\', \\'business\\', \\'segment\\', \\'reports\\', \\'statistics\\', \\'reports\\', \\'assist\\', \\'fm\\', \\'financial\\', \\'analysis\\', \\'subgroup\\', \\'performance\\', \\'member\\', \\'team\\', \\'preparing\\', \\'wilmar\\', \\'group\\', \\'annual\\', \\'reports\\', \\'400\\', \\'500\\', \\'entities\\', \\'review\\', \\'subgroup\\', \\'statutory\\', \\'reports\\', \\'prepared\\', \\'accountant\\', \\'china\\', \\'involved\\', \\'project\\', \\'planning\\', \\'management\\', \\'system\\', \\'implementation\\', \\'enhancement\\', \\'reason\\', \\'leaving\\', \\'job\\', \\'scope\\', \\'changed\\', \\'due\\', \\'big\\', \\'shared\\', \\'service\\', \\'centre\\', \\'set\\', \\'malaysia\\', \\'professional\\', \\'10\\', \\'2009\\', \\'02\\', \\'2010\\', \\'experience\\', \\'assistant\\', \\'accountant\\', \\'ezion\\', \\'holdings\\', \\'ltd\\', \\'listed\\', \\'sme\\', \\'maintain\\', \\'full\\', \\'set\\', \\'accounts\\', \\'investment\\', \\'holding\\', \\'logistics\\', \\'company\\', \\'prepare\\', \\'simple\\', \\'consolidated\\', \\'financial\\', \\'statements\\', \\'sub\\', \\'group\\', \\'liaise\\', \\'external\\', \\'auditors\\', \\'tax\\', \\'agents\\', \\'bankers\\', \\'reason\\', \\'leaving\\', \\'career\\', \\'advancement\\', \\'heavy\\', \\'workload\\', \\'basic\\', \\'operational\\', \\'matters\\', \\'petty\\', \\'cash\\', \\'staff\\', \\'claim\\', \\'etc\\', \\'01\\', \\'2009\\', \\'07\\', \\'2009\\', \\'accounts\\', \\'executive\\', \\'asl\\', \\'marine\\', \\'holdings\\', \\'ltd\\', \\'sgx\\', \\'listed\\', \\'mnc\\', \\'assist\\', \\'finance\\', \\'manager\\', \\'yearly\\', \\'budgeting\\', \\'3\\', \\'year\\', \\'forecasting\\', \\'ship\\', \\'chartering\\', \\'group\\', \\'review\\', \\'full\\', \\'set\\', \\'accounts\\', \\'shipyard\\', \\'china\\', \\'post\\', \\'gaap\\', \\'adjustments\\', \\'prepare\\', \\'quarterly\\', \\'analysis\\', \\'shipyard\\', \\'china\\', \\'kpi\\', \\'ratio\\', \\'variance\\', \\'analysis\\', \\'consolidate\\', \\'financial\\', \\'statements\\', \\'two\\', \\'sub\\', \\'groups\\', \\'maintain\\', \\'full\\', \\'sets\\', \\'accounts\\', \\'investment\\', \\'holding\\', \\'companies\\', \\'liaise\\', \\'tax\\', \\'agents\\', \\'bankers\\', \\'reason\\', \\'leaving\\', \\'offer\\', \\'maternity\\', \\'cover\\', \\'10\\', \\'2000\\', \\'10\\', \\'2006\\', \\'metro\\', \\'private\\', \\'limited\\', \\'management\\', \\'trainee\\', \\'retail\\', \\'executive\\', \\'till\\', \\'department\\', \\'manager\\', \\'responsible\\', \\'efficient\\', \\'profitable\\', \\'operation\\', \\'assigned\\', \\'selling\\', \\'departments\\', \\'merchandise\\', \\'management\\', \\'staff\\', \\'management\\', \\'customer\\', \\'service\\', \\'programs\\', \\'promotions\\', \\'events\\', \\'inventory\\', \\'control\\', \\'expense\\', \\'control\\', \\'loss\\', \\'control\\', \\'visual\\', \\'merchandising\\', \\'reason\\', \\'leaving\\', \\'change\\', \\'career\\', \\'path\\', \\'08\\', \\'1994\\', \\'10\\', \\'2000\\', \\'hubei\\', \\'provincial\\', \\'foreign\\', \\'economy\\', \\'trade\\', \\'corporation\\', \\'supply\\', \\'marketing\\', \\'cooperatives\\', \\'china\\', \\'worked\\', \\'import\\', \\'export\\', \\'sales\\', \\'staff\\', \\'first\\', \\'3\\', \\'years\\', \\'administrator\\', \\'following\\', \\'3\\', \\'years\\', \\'reason\\', \\'leaving\\', \\'seek\\', \\'career\\', \\'advancement\\', \\'singapore\\', \\'08\\', \\'1990\\', \\'08\\', \\'1994\\', \\'hubei\\', \\'provincial\\', \\'institute\\', \\'automation\\', \\'research\\', \\'china\\', \\'engineering\\', \\'assistant\\', \\'responsible\\', \\'programming\\', \\'designing\\', \\'electric\\', \\'electronic\\', \\'automation\\', \\'system\\', \\'reason\\', \\'leaving\\', \\'change\\', \\'career\\', \\'path\\', \\'salary\\', \\'last\\', \\'drawn\\', \\'salary\\', \\'5\\', \\'800\\', \\'per\\', \\'month\\', \\'expected\\', \\'salary\\', \\'open\\', \\'negotiation\\', \\'factors\\', \\'taken\\', \\'consideration\\', \\'available\\', \\'date\\', \\'1\\', \\'2\\', \\'weeks\\', \\'offer\\', \\'confirmed\\', \\'3\\']\"\\n'], ['as', 'a', 'data', 'analyst', 'you', 'will', 'help', 'drive', 'measurement', 'strategy', 'and', 'tactical', 'within', 'getyourguide', 'you', 'will', 'solve', 'problems', 'that', 'could', 'range', 'from', 'forecasting', 'the', 'ticket', 'sales', 'of', 'our', 'some', 'of', 'our', 'key', 'attractions', 'analyzing', 'the', 'success', 'of', 'our', 'new', 'product', 'features', 'help', 'develop', 'strategies', 'to', 'improve', 'customer', 'service', 'experience', 'or', 'help', 'our', 'sales', 'team', 'decide', 'which', 'tours', 'to', 'acquire', 'responsibilities', 'develop', 'quantitative', 'analysis', 'to', 'drive', 'business', 'product', 'decisions', 'explore', 'large', 'datasets', 'give', 'meaning', 'to', 'data', 'and', 'numbers', 'identify', 'opportunities', 'and', 'issues', 'and', 'present', 'findings', 'to', 'stakeholders', 'deliver', 'analysis', 'insights', 'and', 'recommendations', 'to', 'business', 'teams', 'to', 'make', 'impactful', 'decisions', 'design', 'and', 'implement', 'metrics', 'dashboards', 'and', 'reports', 'serve', 'as', 'a', 'liaison', 'between', 'the', 'business', 'teams', 'and', 'the', 'data', 'engineering', 'team', 'requirements', 'years', 'of', 'relevant', 'experience', 'interpreting', 'data', 'in', 'an', 'analytics', 'data', 'science', 'or', 'business', 'intelligence', 'role', 'strong', 'knowledge', 'of', 'sql', 'experience', 'with', 'data', 'visualization', 'and', 'reporting', 'tools', 'looker', 'jupyter', 'notebooks', 'curiosity', 'reasoning', 'skills', 'with', 'proven', 'evidence', 'of', 'problem', 'solving', 'ability', 'to', 'understand', 'user', 'behavior', 'and', 'meaning', 'behind', 'the', 'numbers', 'desire', 'to', 'work', 'in', 'an', 'international', 'environment', 'with', 'minimal', 'direction', 'and', 'with', 'highly', 'engaged', 'individuals', 'great', 'communication', 'skills', 'nice', 'to', 'have', 'experience', 'in', 'business', 'is', 'a', 'plus', 'demonstrated', 'ability', 'to', 'understand', 'the', 'business', 'of', 'a', 'tech', 'company', 'familiarity', 'with', 'statistical', 'packages', 'r', 'python', 'experience', 'with', 'big', 'data', 'tools', 'spark', 'hive', 'is', 'a', 'plus']]\n"
     ]
    }
   ],
   "source": [
    "print(text)"
   ]
  },
  {
   "cell_type": "code",
   "execution_count": 85,
   "metadata": {},
   "outputs": [
    {
     "data": {
      "text/plain": [
       "Descriptions    object\n",
       "Name            object\n",
       "dtype: object"
      ]
     },
     "execution_count": 85,
     "metadata": {},
     "output_type": "execute_result"
    }
   ],
   "source": [
    "import os\n",
    "import docx2txt\n",
    "import glob\n",
    "import pandas as pd       \n",
    "\n",
    "os.chdir(\"/Users/riyavasileva/Ironhack/Final Project/CV_doc\")\n",
    "\n",
    "Descriptions = []\n",
    "name = []\n",
    "\n",
    "for file in glob.glob('*.docx'):\n",
    "    Descriptions.append(docx2txt.process(file))    \n",
    "    name.append(file)\n",
    "\n",
    "data = pd.DataFrame(\n",
    "    {'Descriptions': Descriptions,\n",
    "     'Name': name,\n",
    "    })\n",
    "\n",
    "data.dtypes"
   ]
  },
  {
   "cell_type": "code",
   "execution_count": 86,
   "metadata": {},
   "outputs": [
    {
     "data": {
      "text/html": [
       "<div>\n",
       "<style scoped>\n",
       "    .dataframe tbody tr th:only-of-type {\n",
       "        vertical-align: middle;\n",
       "    }\n",
       "\n",
       "    .dataframe tbody tr th {\n",
       "        vertical-align: top;\n",
       "    }\n",
       "\n",
       "    .dataframe thead th {\n",
       "        text-align: right;\n",
       "    }\n",
       "</style>\n",
       "<table border=\"1\" class=\"dataframe\">\n",
       "  <thead>\n",
       "    <tr style=\"text-align: right;\">\n",
       "      <th></th>\n",
       "      <th>Descriptions</th>\n",
       "      <th>Name</th>\n",
       "    </tr>\n",
       "  </thead>\n",
       "  <tbody>\n",
       "    <tr>\n",
       "      <th>0</th>\n",
       "      <td>Zoe Zhang Xiaming \\n\\nProfile                 ...</td>\n",
       "      <td>CV 1.docx</td>\n",
       "    </tr>\n",
       "    <tr>\n",
       "      <th>1</th>\n",
       "      <td>Weiping Meng\\n\\nwpmeng.2016@maf.smu.edu.sg    ...</td>\n",
       "      <td>CV 4.docx</td>\n",
       "    </tr>\n",
       "    <tr>\n",
       "      <th>2</th>\n",
       "      <td>Jasminder Kaur A/P Sadu Singh\\n\\n\\t\\n\\n\\tAddre...</td>\n",
       "      <td>CV 5.docx</td>\n",
       "    </tr>\n",
       "    <tr>\n",
       "      <th>3</th>\n",
       "      <td>Chew Wei Yuen, Dave (LinkedIn link) \\n\\nAddres...</td>\n",
       "      <td>CV 2.docx</td>\n",
       "    </tr>\n",
       "    <tr>\n",
       "      <th>4</th>\n",
       "      <td>5 Tanah Merah Kechil Road #12-03, Singapore 46...</td>\n",
       "      <td>CV 3.docx</td>\n",
       "    </tr>\n",
       "  </tbody>\n",
       "</table>\n",
       "</div>"
      ],
      "text/plain": [
       "                                        Descriptions       Name\n",
       "0  Zoe Zhang Xiaming \\n\\nProfile                 ...  CV 1.docx\n",
       "1  Weiping Meng\\n\\nwpmeng.2016@maf.smu.edu.sg    ...  CV 4.docx\n",
       "2  Jasminder Kaur A/P Sadu Singh\\n\\n\\t\\n\\n\\tAddre...  CV 5.docx\n",
       "3  Chew Wei Yuen, Dave (LinkedIn link) \\n\\nAddres...  CV 2.docx\n",
       "4  5 Tanah Merah Kechil Road #12-03, Singapore 46...  CV 3.docx"
      ]
     },
     "execution_count": 86,
     "metadata": {},
     "output_type": "execute_result"
    }
   ],
   "source": [
    "data.head()"
   ]
  },
  {
   "cell_type": "markdown",
   "metadata": {},
   "source": [
    "# Pre-processing text data"
   ]
  },
  {
   "cell_type": "markdown",
   "metadata": {},
   "source": [
    "* Tokenising the document\n",
    "* Removing punctuation\n",
    "* Converting to lowercase\n",
    "* Removing stop words\n",
    "* Lemmatising the tokens"
   ]
  },
  {
   "cell_type": "code",
   "execution_count": 87,
   "metadata": {},
   "outputs": [],
   "source": [
    "#lower cases\n",
    "data.loc[:,\"Descriptions\"] = data.Descriptions.apply(lambda x : str.lower(x))"
   ]
  },
  {
   "cell_type": "code",
   "execution_count": 88,
   "metadata": {},
   "outputs": [],
   "source": [
    "#remove punctuation and numbers\n",
    "import re\n",
    "data.loc[:,\"Descriptions\"] = data.Descriptions.apply(lambda x : \" \".join(re.findall('[\\w]+',x)))"
   ]
  },
  {
   "cell_type": "code",
   "execution_count": 89,
   "metadata": {},
   "outputs": [
    {
     "data": {
      "text/html": [
       "<div>\n",
       "<style scoped>\n",
       "    .dataframe tbody tr th:only-of-type {\n",
       "        vertical-align: middle;\n",
       "    }\n",
       "\n",
       "    .dataframe tbody tr th {\n",
       "        vertical-align: top;\n",
       "    }\n",
       "\n",
       "    .dataframe thead th {\n",
       "        text-align: right;\n",
       "    }\n",
       "</style>\n",
       "<table border=\"1\" class=\"dataframe\">\n",
       "  <thead>\n",
       "    <tr style=\"text-align: right;\">\n",
       "      <th></th>\n",
       "      <th>Descriptions</th>\n",
       "      <th>Name</th>\n",
       "    </tr>\n",
       "  </thead>\n",
       "  <tbody>\n",
       "    <tr>\n",
       "      <th>0</th>\n",
       "      <td>zoe zhang xiaming profile my personal qualitie...</td>\n",
       "      <td>CV 1.docx</td>\n",
       "    </tr>\n",
       "    <tr>\n",
       "      <th>1</th>\n",
       "      <td>weiping meng wpmeng 2016 maf smu edu sg 65 834...</td>\n",
       "      <td>CV 4.docx</td>\n",
       "    </tr>\n",
       "    <tr>\n",
       "      <th>2</th>\n",
       "      <td>jasminder kaur a p sadu singh address no 12 re...</td>\n",
       "      <td>CV 5.docx</td>\n",
       "    </tr>\n",
       "    <tr>\n",
       "      <th>3</th>\n",
       "      <td>chew wei yuen dave linkedin link address blk 1...</td>\n",
       "      <td>CV 2.docx</td>\n",
       "    </tr>\n",
       "    <tr>\n",
       "      <th>4</th>\n",
       "      <td>5 tanah merah kechil road 12 03 singapore 4666...</td>\n",
       "      <td>CV 3.docx</td>\n",
       "    </tr>\n",
       "  </tbody>\n",
       "</table>\n",
       "</div>"
      ],
      "text/plain": [
       "                                        Descriptions       Name\n",
       "0  zoe zhang xiaming profile my personal qualitie...  CV 1.docx\n",
       "1  weiping meng wpmeng 2016 maf smu edu sg 65 834...  CV 4.docx\n",
       "2  jasminder kaur a p sadu singh address no 12 re...  CV 5.docx\n",
       "3  chew wei yuen dave linkedin link address blk 1...  CV 2.docx\n",
       "4  5 tanah merah kechil road 12 03 singapore 4666...  CV 3.docx"
      ]
     },
     "execution_count": 89,
     "metadata": {},
     "output_type": "execute_result"
    }
   ],
   "source": [
    "data.head()"
   ]
  },
  {
   "cell_type": "code",
   "execution_count": 90,
   "metadata": {},
   "outputs": [],
   "source": [
    "#remove stopwords\n",
    "from stop_words import get_stop_words\n",
    "stop_words = get_stop_words('en')\n",
    "\n",
    "def remove_stopWords(s):\n",
    "    '''For removing stop words\n",
    "    '''\n",
    "    s = ' '.join(word for word in s.split() if word not in stop_words)\n",
    "    return s\n",
    "data.loc[:,\"Descriptions\"] = data.Descriptions.apply(lambda x: remove_stopWords(x))"
   ]
  },
  {
   "cell_type": "code",
   "execution_count": 91,
   "metadata": {},
   "outputs": [
    {
     "data": {
      "text/html": [
       "<div>\n",
       "<style scoped>\n",
       "    .dataframe tbody tr th:only-of-type {\n",
       "        vertical-align: middle;\n",
       "    }\n",
       "\n",
       "    .dataframe tbody tr th {\n",
       "        vertical-align: top;\n",
       "    }\n",
       "\n",
       "    .dataframe thead th {\n",
       "        text-align: right;\n",
       "    }\n",
       "</style>\n",
       "<table border=\"1\" class=\"dataframe\">\n",
       "  <thead>\n",
       "    <tr style=\"text-align: right;\">\n",
       "      <th></th>\n",
       "      <th>Descriptions</th>\n",
       "      <th>Name</th>\n",
       "    </tr>\n",
       "  </thead>\n",
       "  <tbody>\n",
       "    <tr>\n",
       "      <th>0</th>\n",
       "      <td>zoe zhang xiaming profile personal qualities b...</td>\n",
       "      <td>CV 1.docx</td>\n",
       "    </tr>\n",
       "    <tr>\n",
       "      <th>1</th>\n",
       "      <td>weiping meng wpmeng 2016 maf smu edu sg 65 834...</td>\n",
       "      <td>CV 4.docx</td>\n",
       "    </tr>\n",
       "    <tr>\n",
       "      <th>2</th>\n",
       "      <td>jasminder kaur p sadu singh address 12 regat l...</td>\n",
       "      <td>CV 5.docx</td>\n",
       "    </tr>\n",
       "    <tr>\n",
       "      <th>3</th>\n",
       "      <td>chew wei yuen dave linkedin link address blk 1...</td>\n",
       "      <td>CV 2.docx</td>\n",
       "    </tr>\n",
       "    <tr>\n",
       "      <th>4</th>\n",
       "      <td>5 tanah merah kechil road 12 03 singapore 4666...</td>\n",
       "      <td>CV 3.docx</td>\n",
       "    </tr>\n",
       "  </tbody>\n",
       "</table>\n",
       "</div>"
      ],
      "text/plain": [
       "                                        Descriptions       Name\n",
       "0  zoe zhang xiaming profile personal qualities b...  CV 1.docx\n",
       "1  weiping meng wpmeng 2016 maf smu edu sg 65 834...  CV 4.docx\n",
       "2  jasminder kaur p sadu singh address 12 regat l...  CV 5.docx\n",
       "3  chew wei yuen dave linkedin link address blk 1...  CV 2.docx\n",
       "4  5 tanah merah kechil road 12 03 singapore 4666...  CV 3.docx"
      ]
     },
     "execution_count": 91,
     "metadata": {},
     "output_type": "execute_result"
    }
   ],
   "source": [
    "data.head()"
   ]
  },
  {
   "cell_type": "code",
   "execution_count": 92,
   "metadata": {},
   "outputs": [
    {
     "name": "stdout",
     "output_type": "stream",
     "text": [
      "                                        Descriptions       Name\n",
      "0  zoe zhang xiaming profile personal qualities b...  CV 1.docx\n",
      "1  weiping meng wpmeng 2016 maf smu edu sg 65 834...  CV 4.docx\n",
      "2  jasminder kaur p sadu singh address 12 regat l...  CV 5.docx\n",
      "3  chew wei yuen dave linkedin link address blk 1...  CV 2.docx\n",
      "4  5 tanah merah kechil road 12 03 singapore 4666...  CV 3.docx\n"
     ]
    }
   ],
   "source": [
    "# Lemmatise document from filtered tokens\n",
    "lemmatizer = nltk.WordNetLemmatizer()\n",
    "data['Descriptions'] = [lemmatizer.lemmatize(i) for i in data['Descriptions']]\n",
    "print(data)\n"
   ]
  },
  {
   "cell_type": "code",
   "execution_count": 37,
   "metadata": {},
   "outputs": [
    {
     "data": {
      "text/html": [
       "<div>\n",
       "<style scoped>\n",
       "    .dataframe tbody tr th:only-of-type {\n",
       "        vertical-align: middle;\n",
       "    }\n",
       "\n",
       "    .dataframe tbody tr th {\n",
       "        vertical-align: top;\n",
       "    }\n",
       "\n",
       "    .dataframe thead th {\n",
       "        text-align: right;\n",
       "    }\n",
       "</style>\n",
       "<table border=\"1\" class=\"dataframe\">\n",
       "  <thead>\n",
       "    <tr style=\"text-align: right;\">\n",
       "      <th></th>\n",
       "      <th>Descriptions</th>\n",
       "      <th>Name</th>\n",
       "    </tr>\n",
       "  </thead>\n",
       "  <tbody>\n",
       "    <tr>\n",
       "      <th>0</th>\n",
       "      <td>zoe zhang xiaming profile personal qualities b...</td>\n",
       "      <td>CV 1.docx</td>\n",
       "    </tr>\n",
       "    <tr>\n",
       "      <th>1</th>\n",
       "      <td>weiping meng wpmeng 2016 maf smu edu sg 65 834...</td>\n",
       "      <td>CV 4.docx</td>\n",
       "    </tr>\n",
       "    <tr>\n",
       "      <th>2</th>\n",
       "      <td>jasminder kaur p sadu singh address 12 regat l...</td>\n",
       "      <td>CV 5.docx</td>\n",
       "    </tr>\n",
       "    <tr>\n",
       "      <th>3</th>\n",
       "      <td>chew wei yuen dave linkedin link address blk 1...</td>\n",
       "      <td>CV 2.docx</td>\n",
       "    </tr>\n",
       "    <tr>\n",
       "      <th>4</th>\n",
       "      <td>5 tanah merah kechil road 12 03 singapore 4666...</td>\n",
       "      <td>CV 3.docx</td>\n",
       "    </tr>\n",
       "  </tbody>\n",
       "</table>\n",
       "</div>"
      ],
      "text/plain": [
       "                                        Descriptions       Name\n",
       "0  zoe zhang xiaming profile personal qualities b...  CV 1.docx\n",
       "1  weiping meng wpmeng 2016 maf smu edu sg 65 834...  CV 4.docx\n",
       "2  jasminder kaur p sadu singh address 12 regat l...  CV 5.docx\n",
       "3  chew wei yuen dave linkedin link address blk 1...  CV 2.docx\n",
       "4  5 tanah merah kechil road 12 03 singapore 4666...  CV 3.docx"
      ]
     },
     "execution_count": 37,
     "metadata": {},
     "output_type": "execute_result"
    }
   ],
   "source": [
    "data.head()"
   ]
  },
  {
   "cell_type": "code",
   "execution_count": 94,
   "metadata": {},
   "outputs": [],
   "source": [
    "data['tokenized_text'] = data['Descriptions'].apply(word_tokenize) "
   ]
  },
  {
   "cell_type": "code",
   "execution_count": 98,
   "metadata": {},
   "outputs": [
    {
     "data": {
      "text/html": [
       "<div>\n",
       "<style scoped>\n",
       "    .dataframe tbody tr th:only-of-type {\n",
       "        vertical-align: middle;\n",
       "    }\n",
       "\n",
       "    .dataframe tbody tr th {\n",
       "        vertical-align: top;\n",
       "    }\n",
       "\n",
       "    .dataframe thead th {\n",
       "        text-align: right;\n",
       "    }\n",
       "</style>\n",
       "<table border=\"1\" class=\"dataframe\">\n",
       "  <thead>\n",
       "    <tr style=\"text-align: right;\">\n",
       "      <th></th>\n",
       "      <th>Name</th>\n",
       "      <th>tokenized_text</th>\n",
       "    </tr>\n",
       "  </thead>\n",
       "  <tbody>\n",
       "    <tr>\n",
       "      <th>0</th>\n",
       "      <td>CV 1.docx</td>\n",
       "      <td>[zoe, zhang, xiaming, profile, personal, quali...</td>\n",
       "    </tr>\n",
       "    <tr>\n",
       "      <th>1</th>\n",
       "      <td>CV 4.docx</td>\n",
       "      <td>[weiping, meng, wpmeng, 2016, maf, smu, edu, s...</td>\n",
       "    </tr>\n",
       "    <tr>\n",
       "      <th>2</th>\n",
       "      <td>CV 5.docx</td>\n",
       "      <td>[jasminder, kaur, p, sadu, singh, address, 12,...</td>\n",
       "    </tr>\n",
       "    <tr>\n",
       "      <th>3</th>\n",
       "      <td>CV 2.docx</td>\n",
       "      <td>[chew, wei, yuen, dave, linkedin, link, addres...</td>\n",
       "    </tr>\n",
       "    <tr>\n",
       "      <th>4</th>\n",
       "      <td>CV 3.docx</td>\n",
       "      <td>[5, tanah, merah, kechil, road, 12, 03, singap...</td>\n",
       "    </tr>\n",
       "  </tbody>\n",
       "</table>\n",
       "</div>"
      ],
      "text/plain": [
       "        Name                                     tokenized_text\n",
       "0  CV 1.docx  [zoe, zhang, xiaming, profile, personal, quali...\n",
       "1  CV 4.docx  [weiping, meng, wpmeng, 2016, maf, smu, edu, s...\n",
       "2  CV 5.docx  [jasminder, kaur, p, sadu, singh, address, 12,...\n",
       "3  CV 2.docx  [chew, wei, yuen, dave, linkedin, link, addres...\n",
       "4  CV 3.docx  [5, tanah, merah, kechil, road, 12, 03, singap..."
      ]
     },
     "execution_count": 98,
     "metadata": {},
     "output_type": "execute_result"
    }
   ],
   "source": [
    "data.head()"
   ]
  },
  {
   "cell_type": "code",
   "execution_count": 96,
   "metadata": {},
   "outputs": [],
   "source": [
    "data=data.drop(['Descriptions'],axis=1,inplace=True)"
   ]
  },
  {
   "cell_type": "code",
   "execution_count": 99,
   "metadata": {},
   "outputs": [
    {
     "data": {
      "text/html": [
       "<div>\n",
       "<style scoped>\n",
       "    .dataframe tbody tr th:only-of-type {\n",
       "        vertical-align: middle;\n",
       "    }\n",
       "\n",
       "    .dataframe tbody tr th {\n",
       "        vertical-align: top;\n",
       "    }\n",
       "\n",
       "    .dataframe thead th {\n",
       "        text-align: right;\n",
       "    }\n",
       "</style>\n",
       "<table border=\"1\" class=\"dataframe\">\n",
       "  <thead>\n",
       "    <tr style=\"text-align: right;\">\n",
       "      <th></th>\n",
       "      <th>Name</th>\n",
       "      <th>tokenized_text</th>\n",
       "    </tr>\n",
       "  </thead>\n",
       "  <tbody>\n",
       "    <tr>\n",
       "      <th>0</th>\n",
       "      <td>CV 1.docx</td>\n",
       "      <td>[zoe, zhang, xiaming, profile, personal, quali...</td>\n",
       "    </tr>\n",
       "    <tr>\n",
       "      <th>1</th>\n",
       "      <td>CV 4.docx</td>\n",
       "      <td>[weiping, meng, wpmeng, 2016, maf, smu, edu, s...</td>\n",
       "    </tr>\n",
       "    <tr>\n",
       "      <th>2</th>\n",
       "      <td>CV 5.docx</td>\n",
       "      <td>[jasminder, kaur, p, sadu, singh, address, 12,...</td>\n",
       "    </tr>\n",
       "    <tr>\n",
       "      <th>3</th>\n",
       "      <td>CV 2.docx</td>\n",
       "      <td>[chew, wei, yuen, dave, linkedin, link, addres...</td>\n",
       "    </tr>\n",
       "    <tr>\n",
       "      <th>4</th>\n",
       "      <td>CV 3.docx</td>\n",
       "      <td>[5, tanah, merah, kechil, road, 12, 03, singap...</td>\n",
       "    </tr>\n",
       "  </tbody>\n",
       "</table>\n",
       "</div>"
      ],
      "text/plain": [
       "        Name                                     tokenized_text\n",
       "0  CV 1.docx  [zoe, zhang, xiaming, profile, personal, quali...\n",
       "1  CV 4.docx  [weiping, meng, wpmeng, 2016, maf, smu, edu, s...\n",
       "2  CV 5.docx  [jasminder, kaur, p, sadu, singh, address, 12,...\n",
       "3  CV 2.docx  [chew, wei, yuen, dave, linkedin, link, addres...\n",
       "4  CV 3.docx  [5, tanah, merah, kechil, road, 12, 03, singap..."
      ]
     },
     "execution_count": 99,
     "metadata": {},
     "output_type": "execute_result"
    }
   ],
   "source": [
    "data.head()"
   ]
  },
  {
   "cell_type": "markdown",
   "metadata": {},
   "source": [
    "# Job description"
   ]
  },
  {
   "cell_type": "code",
   "execution_count": 57,
   "metadata": {},
   "outputs": [],
   "source": [
    "#loading data analyst role\n",
    "job_des=docx2txt.process(\"/Users/riyavasileva/Ironhack/Final Project/Data Analyst_JD.docx\")"
   ]
  },
  {
   "cell_type": "code",
   "execution_count": 58,
   "metadata": {},
   "outputs": [
    {
     "data": {
      "text/plain": [
       "'As a Data Analyst, you will help drive measurement, strategy, and tactical decision-making within GetYourGuide. You will solve problems that could range from forecasting the ticket sales of our some of our key attractions, analyzing the success of our new product features, help develop strategies to improve customer service experience, or help our sales team decide which tours to acquire.\\n\\n\\n\\nResponsibilities:\\n\\n\\n\\nDevelop quantitative analysis to drive business & product decisions\\n\\nExplore large datasets, give meaning to data and numbers, identify opportunities and issues, and present findings to stakeholders\\n\\nDeliver analysis, insights, and recommendations to business teams to make impactful decisions\\n\\nDesign and implement metrics, dashboards, and reports\\n\\nServe as a liaison between the business teams and the data engineering team \\n\\nRequirements: \\n\\n\\n\\n2-3 years of relevant experience interpreting data in an analytics, data science or business intelligence role\\n\\nStrong knowledge of SQL \\n\\nExperience with data visualization and reporting tools (e.g. Looker, Jupyter Notebooks)\\n\\nCuriosity, reasoning skills with proven evidence of problem solving.\\n\\nAbility to understand user behavior and meaning behind the numbers\\n\\nDesire to work in an international environment, with minimal direction and with highly engaged individuals\\n\\nGreat communication skills\\n\\nNice to have:\\n\\n\\n\\nExperience in business analytics/strategy is a plus\\n\\nDemonstrated ability to understand the business of a tech company\\n\\nFamiliarity with statistical packages (e.g. R, Python)\\n\\nExperience with big data tools (e.g. Spark, Hive) is a plus'"
      ]
     },
     "execution_count": 58,
     "metadata": {},
     "output_type": "execute_result"
    }
   ],
   "source": [
    "job_des"
   ]
  },
  {
   "cell_type": "code",
   "execution_count": 62,
   "metadata": {},
   "outputs": [
    {
     "name": "stdout",
     "output_type": "stream",
     "text": [
      "['As', 'a', 'Data', 'Analyst', ',', 'you', 'will', 'help', 'drive', 'measurement', ',', 'strategy', ',', 'and', 'tactical', 'decision-making', 'within', 'GetYourGuide', '.', 'You', 'will', 'solve', 'problems', 'that', 'could', 'range', 'from', 'forecasting', 'the', 'ticket', 'sales', 'of', 'our', 'some', 'of', 'our', 'key', 'attractions', ',', 'analyzing', 'the', 'success', 'of', 'our', 'new', 'product', 'features', ',', 'help', 'develop', 'strategies', 'to', 'improve', 'customer', 'service', 'experience', ',', 'or', 'help', 'our', 'sales', 'team', 'decide', 'which', 'tours', 'to', 'acquire', '.', 'Responsibilities', ':', 'Develop', 'quantitative', 'analysis', 'to', 'drive', 'business', '&', 'product', 'decisions', 'Explore', 'large', 'datasets', ',', 'give', 'meaning', 'to', 'data', 'and', 'numbers', ',', 'identify', 'opportunities', 'and', 'issues', ',', 'and', 'present', 'findings', 'to', 'stakeholders', 'Deliver', 'analysis', ',', 'insights', ',', 'and', 'recommendations', 'to', 'business', 'teams', 'to', 'make', 'impactful', 'decisions', 'Design', 'and', 'implement', 'metrics', ',', 'dashboards', ',', 'and', 'reports', 'Serve', 'as', 'a', 'liaison', 'between', 'the', 'business', 'teams', 'and', 'the', 'data', 'engineering', 'team', 'Requirements', ':', '2-3', 'years', 'of', 'relevant', 'experience', 'interpreting', 'data', 'in', 'an', 'analytics', ',', 'data', 'science', 'or', 'business', 'intelligence', 'role', 'Strong', 'knowledge', 'of', 'SQL', 'Experience', 'with', 'data', 'visualization', 'and', 'reporting', 'tools', '(', 'e.g', '.', 'Looker', ',', 'Jupyter', 'Notebooks', ')', 'Curiosity', ',', 'reasoning', 'skills', 'with', 'proven', 'evidence', 'of', 'problem', 'solving', '.', 'Ability', 'to', 'understand', 'user', 'behavior', 'and', 'meaning', 'behind', 'the', 'numbers', 'Desire', 'to', 'work', 'in', 'an', 'international', 'environment', ',', 'with', 'minimal', 'direction', 'and', 'with', 'highly', 'engaged', 'individuals', 'Great', 'communication', 'skills', 'Nice', 'to', 'have', ':', 'Experience', 'in', 'business', 'analytics/strategy', 'is', 'a', 'plus', 'Demonstrated', 'ability', 'to', 'understand', 'the', 'business', 'of', 'a', 'tech', 'company', 'Familiarity', 'with', 'statistical', 'packages', '(', 'e.g', '.', 'R', ',', 'Python', ')', 'Experience', 'with', 'big', 'data', 'tools', '(', 'e.g', '.', 'Spark', ',', 'Hive', ')', 'is', 'a', 'plus']\n"
     ]
    }
   ],
   "source": [
    "tokens=word_tokenize(job_des)\n",
    "print(tokens)"
   ]
  },
  {
   "cell_type": "code",
   "execution_count": 68,
   "metadata": {},
   "outputs": [
    {
     "name": "stdout",
     "output_type": "stream",
     "text": [
      "['as', 'a', 'data', 'analyst', 'you', 'will', 'help', 'drive', 'measurement', 'strategy', 'and', 'tactical', 'within', 'getyourguide', 'you', 'will', 'solve', 'problems', 'that', 'could', 'range', 'from', 'forecasting', 'the', 'ticket', 'sales', 'of', 'our', 'some', 'of', 'our', 'key', 'attractions', 'analyzing', 'the', 'success', 'of', 'our', 'new', 'product', 'features', 'help', 'develop', 'strategies', 'to', 'improve', 'customer', 'service', 'experience', 'or', 'help', 'our', 'sales', 'team', 'decide', 'which', 'tours', 'to', 'acquire', 'responsibilities', 'develop', 'quantitative', 'analysis', 'to', 'drive', 'business', 'product', 'decisions', 'explore', 'large', 'datasets', 'give', 'meaning', 'to', 'data', 'and', 'numbers', 'identify', 'opportunities', 'and', 'issues', 'and', 'present', 'findings', 'to', 'stakeholders', 'deliver', 'analysis', 'insights', 'and', 'recommendations', 'to', 'business', 'teams', 'to', 'make', 'impactful', 'decisions', 'design', 'and', 'implement', 'metrics', 'dashboards', 'and', 'reports', 'serve', 'as', 'a', 'liaison', 'between', 'the', 'business', 'teams', 'and', 'the', 'data', 'engineering', 'team', 'requirements', 'years', 'of', 'relevant', 'experience', 'interpreting', 'data', 'in', 'an', 'analytics', 'data', 'science', 'or', 'business', 'intelligence', 'role', 'strong', 'knowledge', 'of', 'sql', 'experience', 'with', 'data', 'visualization', 'and', 'reporting', 'tools', 'looker', 'jupyter', 'notebooks', 'curiosity', 'reasoning', 'skills', 'with', 'proven', 'evidence', 'of', 'problem', 'solving', 'ability', 'to', 'understand', 'user', 'behavior', 'and', 'meaning', 'behind', 'the', 'numbers', 'desire', 'to', 'work', 'in', 'an', 'international', 'environment', 'with', 'minimal', 'direction', 'and', 'with', 'highly', 'engaged', 'individuals', 'great', 'communication', 'skills', 'nice', 'to', 'have', 'experience', 'in', 'business', 'is', 'a', 'plus', 'demonstrated', 'ability', 'to', 'understand', 'the', 'business', 'of', 'a', 'tech', 'company', 'familiarity', 'with', 'statistical', 'packages', 'r', 'python', 'experience', 'with', 'big', 'data', 'tools', 'spark', 'hive', 'is', 'a', 'plus']\n"
     ]
    }
   ],
   "source": [
    "#remove punctuation\n",
    "import nltk\n",
    "\n",
    "words = nltk.word_tokenize(job_des)\n",
    "\n",
    "words=[word.lower() for word in words if word.isalpha()]\n",
    "\n",
    "print(words)"
   ]
  },
  {
   "cell_type": "code",
   "execution_count": 102,
   "metadata": {},
   "outputs": [],
   "source": [
    "list_cvs=data.values.tolist()"
   ]
  },
  {
   "cell_type": "code",
   "execution_count": 103,
   "metadata": {},
   "outputs": [
    {
     "name": "stdout",
     "output_type": "stream",
     "text": [
      "[['CV 1.docx', ['zoe', 'zhang', 'xiaming', 'profile', 'personal', 'qualities', 'beliefs', 'make', 'ideal', 'person', 'accounting', 'profession', 'honest', 'able', 'learn', 'quickly', 'work', 'well', 'stress', 'environments', 'particularly', 'possess', 'strong', 'sense', 'responsibility', 'analytical', 'mind', 'eye', 'details', 'good', 'communication', 'interpersonal', 'skills', 'personal', 'details', 'mobile', '97297189', 'email', 'zxmxm', 'singnet', 'com', 'sg', 'place', 'living', 'block', '127a', 'kim', 'tian', 'road', '06', '527', 's161127', 'near', 'tiong', 'bahru', 'mrt', 'nationality', 'china', 'singapore', 'pr', 'since', '2005', 'date', 'birth', '27', 'march', '1968', 'marital', 'status', 'single', 'education', '2006', '2008', 'acca', 'qualification', 'fully', 'completed', '2008', '3rd', 'placing', 'singapore', 'paper', 'p4', 'advanced', 'financial', 'management', 'bachelor', 'science', 'first', 'class', 'honours', 'applied', 'accounting', 'oxford', 'brookes', 'university', '1986', '1990', 'bachelor', 'engineering', 'automatic', 'control', 'beijing', 'university', 'aeronautics', 'astronautics', 'accounting', 'skills', '8', 'years', 'accounting', 'experience', 'various', 'industries', 'agribusiness', 'reit', 'strong', 'theoretical', 'working', 'knowledge', 'latest', 'frss', 'knowledge', 'us', 'gaap', 'good', 'experience', 'financial', 'reporting', 'general', 'ledger', 'statutory', 'reports', 'experience', 'handling', 'current', 'deferred', 'taxes', 'wht', 'gst', 'experience', 'management', 'reporting', 'financial', 'analysis', 'budgeting', 'forecasting', 'solid', 'working', 'experience', 'consolidation', 'complex', 'group', 'structure', 'group', 'reporting', 'sgx', 'listed', 'mncs', 'including', '4', 'years', 'fortune', 's', 'global', '500', 'conglomerate', 'experience', 'system', 'implementation', 'enhancement', '4', 'years', 'experience', 'people', 'management', 'computer', 'skills', 'microsoft', 'office', 'applications', 'excel', 'complex', 'formulae', 'pivot', 'table', 'macro', 'word', 'powerpoint', 'hfm', 'hyperion', 'ibm', 'cognos', 'controller', 'bpc', 'bcs', 'tm1', 'sap', 'r3', 'yardi', 'language', 'english', 'mandarin', 'professional', 'experience', '2', '2017', '5', '2017', 'contract', 'assistant', 'finance', 'manager', 'ascendas', 'hospitality', 'fund', 'management', 'pte', 'ltd', 'take', 'charge', 'group', 'consolidation', 'financial', 'management', 'reporting', 'function', 'handling', 'yearend', 'mar', '17', 'month', 'end', 'feb', '17', 'apr', '17', 'closing', 'provide', 'financial', 'management', 'accounting', 'support', 'guidance', 'singapore', 'overseas', 'companies', 'ensure', 'timely', 'submission', 'monthly', 'accounts', 'prepare', 'quarterly', 'sgx', 'announcements', 'prepare', 'annual', 'reports', 'draft', 'notes', 'accounts', 'liaise', 'auditors', 'prepare', 'audit', 'schedules', 'attend', 'auditor', 's', 'queries', 'prepare', 'group', 'reporting', 'package', 'liaise', 'group', 'finance', 'team', 'reason', 'leaving', 'contract', 'offer', 'covering', 'critical', 'busiest', 'period', '4', 'months', 'around', 'financial', 'year', 'end', 'mar', '17', '12', '2015', '5', '2016', 'permanent', 'senior', 'accountant', 'amphenol', 'fci', 'asia', 'pte', 'ltd', 'international', 'connector', 'cable', 'assembly', 'solutions', 'manufacturer', 'acquired', 'amphenol', 'based', 'usa', '2016', 'review', 'subsidiaries', 'accounts', 'reconcile', 'intercompany', 'balances', 'transactions', 'post', 'consol', 'adjustment', 'entries', 'prepare', 'consolidated', 'accounts', 'fci', 'group', '29', 'entities', 'incorporated', 'europe', 'north', 'america', 'asia', 'pension', 'accounting', 'handle', 'pension', 'accounting', 'external', 'advisor', 'towers', 'waston', 'guide', 'communicate', 'subsidiaries', 'pension', 'accounting', 'draft', 'annual', 'statutory', 'report', 'fci', 'group', 'fy2015', 'review', 'subsidiaries', 'annual', 'statutory', 'reports', 'fy2015', 'reason', 'leaving', 'voluntary', 'redundancy', 'due', 'restructuring', 'acquisition', 'amphenol', '3', '2015', '5', '2015', 'contract', 'senior', 'accountant', 'mapletree', 'investments', 'pte', 'ltd', 'temasek', 'linked', 'leading', 'real', 'estate', 'development', 'investment', 'capital', 'management', 'company', 'offer', 'made', 'due', 'impact', 'newly', 'effective', 'consolidation', 'standards', 'year', '2015', 'frs110', 'frs111', 'frs112', 'assist', 'senior', 'finance', 'manager', 'mapletree', 'commercial', 'trust', 'drafting', 'fy14', '15', 'annual', 'reports', 'preparing', 'quarterly', 'results', 'announcement', 'etc', 'reason', 'leaving', 'short', 'term', 'contract', 'offer', 'mainly', 'drafting', 'annual', 'statutory', 'report', 'contacted', 'mapletree', 'perm', 'offer', 'senior', 'accountant', 'nov', '15', 'accepted', 'due', 'high', 'turnover', 'rate', 'post', 'professional', '10', '2014', '01', '2015', 'experience', 'permanent', 'assistant', 'finance', 'manager', 'olam', 'international', 'ltd', 'temasek', 'linked', 'sgx', 'listed', 'leading', 'agri', 'business', 'operates', '65', 'countries', 'assist', 'accountant', 'following', 'duties', 'one', '17', 'product', 'teams', 'point', 'contact', 'liaise', 'traders', 'subsidiaries', 'various', 'departments', 'guide', 'ssc', 'general', 'ledger', 'compile', 'prepare', 'accounts', 'p', 'l', 'bs', 'assigned', 'bu', 'prepare', 'system', 'generated', 'consolidated', 'bs', 'pl', 'internal', 'use', 'assist', 'product', 'financial', 'controller', 'liaising', 'subsidiaries', 'kpi', 'variance', 'analysis', 'rolling', 'forecast', 'reason', 'leaving', 'newly', 'created', 'yet', 'dispensable', 'role', 'without', 'well', 'defined', 'job', 'scope', 'clear', 'direction', 'position', 'remained', 'vacant', 'least', 'one', 'year', 'resignation', 'probably', 'eliminated', 'end', 'p', '06', '2014', '10', '2014', 'permanent', 'group', 'accountant', 'kuok', 'singapore', 'limited', 'mnc', '300', 'subsidiaries', 'associates', 'involved', 'shipping', 'warehousing', 'trading', 'chemicals', 'scrap', 'steel', 'fertilizers', 'sugar', 'products', 'responsible', 'group', 'reporting', 'newly', 'acquired', 'shipyard', 'group', 'set', 'reporting', 'system', 'formulate', 'consolidation', 'package', 'group', 'prepare', 'monthly', 'consolidated', 'financial', 'statements', 'group', 'prepare', 'monthly', 'flash', 'quarterly', 'executive', 'summary', 'consolidate', 'monthly', 'cash', 'flow', 'forecast', 'reason', 'leaving', 'daily', 'commute', 'time', 'long', '3', '30', '4', '00', 'hours', 'due', 'change', 'work', 'location', 'working', 'hours', '03', '2010', '03', '2014', 'permanent', 'accountant', 'group', 'accounts', 'wilmar', 'international', 'ltd', 'fortune', 's', 'global', '500', 'sgx', 'listed', 'mnc', '400', 'subsidiaries', 'associates', 'worldwide', 'handle', 'full', 'sets', 'accounts', 'investment', 'holding', 'companies', 'prepare', 'statutory', 'reports', 'work', 'tax', 'division', 'tax', 'matters', 'review', 'reporting', 'package', 'submitted', 'subsidiaries', 'associates', 'prepare', 'monthly', 'consolidated', 'accounts', 'supporting', 'schedules', 'subgroups', 'assigned', '40', 'entities', 'various', 'functional', 'currencies', 'incorporated', '6', 'different', 'countries', 'evolving', 'nci', 'goodwill', 'associates', 'etc', 'prepare', 'monthly', 'consolidated', 'business', 'segment', 'reports', 'statistics', 'reports', 'assist', 'fm', 'financial', 'analysis', 'subgroup', 'performance', 'member', 'team', 'preparing', 'wilmar', 'group', 'annual', 'reports', '400', '500', 'entities', 'review', 'subgroup', 'statutory', 'reports', 'prepared', 'accountant', 'china', 'involved', 'project', 'planning', 'management', 'system', 'implementation', 'enhancement', 'reason', 'leaving', 'job', 'scope', 'changed', 'due', 'big', 'shared', 'service', 'centre', 'set', 'malaysia', 'professional', '10', '2009', '02', '2010', 'experience', 'assistant', 'accountant', 'ezion', 'holdings', 'ltd', 'listed', 'sme', 'maintain', 'full', 'set', 'accounts', 'investment', 'holding', 'logistics', 'company', 'prepare', 'simple', 'consolidated', 'financial', 'statements', 'sub', 'group', 'liaise', 'external', 'auditors', 'tax', 'agents', 'bankers', 'reason', 'leaving', 'career', 'advancement', 'heavy', 'workload', 'basic', 'operational', 'matters', 'petty', 'cash', 'staff', 'claim', 'etc', '01', '2009', '07', '2009', 'accounts', 'executive', 'asl', 'marine', 'holdings', 'ltd', 'sgx', 'listed', 'mnc', 'assist', 'finance', 'manager', 'yearly', 'budgeting', '3', 'year', 'forecasting', 'ship', 'chartering', 'group', 'review', 'full', 'set', 'accounts', 'shipyard', 'china', 'post', 'gaap', 'adjustments', 'prepare', 'quarterly', 'analysis', 'shipyard', 'china', 'kpi', 'ratio', 'variance', 'analysis', 'consolidate', 'financial', 'statements', 'two', 'sub', 'groups', 'maintain', 'full', 'sets', 'accounts', 'investment', 'holding', 'companies', 'liaise', 'tax', 'agents', 'bankers', 'reason', 'leaving', 'offer', 'maternity', 'cover', '10', '2000', '10', '2006', 'metro', 'private', 'limited', 'management', 'trainee', 'retail', 'executive', 'till', 'department', 'manager', 'responsible', 'efficient', 'profitable', 'operation', 'assigned', 'selling', 'departments', 'merchandise', 'management', 'staff', 'management', 'customer', 'service', 'programs', 'promotions', 'events', 'inventory', 'control', 'expense', 'control', 'loss', 'control', 'visual', 'merchandising', 'reason', 'leaving', 'change', 'career', 'path', '08', '1994', '10', '2000', 'hubei', 'provincial', 'foreign', 'economy', 'trade', 'corporation', 'supply', 'marketing', 'cooperatives', 'china', 'worked', 'import', 'export', 'sales', 'staff', 'first', '3', 'years', 'administrator', 'following', '3', 'years', 'reason', 'leaving', 'seek', 'career', 'advancement', 'singapore', '08', '1990', '08', '1994', 'hubei', 'provincial', 'institute', 'automation', 'research', 'china', 'engineering', 'assistant', 'responsible', 'programming', 'designing', 'electric', 'electronic', 'automation', 'system', 'reason', 'leaving', 'change', 'career', 'path', 'salary', 'last', 'drawn', 'salary', '5', '800', 'per', 'month', 'expected', 'salary', 'open', 'negotiation', 'factors', 'taken', 'consideration', 'available', 'date', '1', '2', 'weeks', 'offer', 'confirmed', '3']], ['CV 4.docx', ['weiping', 'meng', 'wpmeng', '2016', 'maf', 'smu', 'edu', 'sg', '65', '83438336', 'education', 'singapore', 'management', 'university', 'jun', '2017', 'master', 'applied', 'finance', 'passed', 'cfa', 'level', '2', 'exam', 'cfa', 'level', '3', 'candidate', 'june', '2017', 'exam', 'renmin', 'university', 'china', 'china', 'jul', '2011', 'master', 'business', 'economics', 'china', 'university', 'geosciences', 'china', 'jul', '2008', 'bachelor', 'economics', 'gpa', '3', '43', '4', '0', 'first', 'class', 'honors', 'experience', 'shanghai', 'jewellerywater', 'asset', 'management', 'co', 'ltd', 'china', 'sep', '2015', 'jul', '2016', 'private', 'equity', 'company', 'operating', 'form', 'fof', 'aum', '5', 'billion', 'yuan', 'equity', 'investment', 'department', 'assistant', 'fund', 'manager', 'managed', 'legal', 'operational', 'structure', 'fof', 'actively', 'contribute', 'pipeline', 'fund', 'set', 'ups', 'processed', 'trades', 'check', 'accuracy', 'nav', 'funds', 'coordinated', 'fund', 'manager', 'investors', 'prime', 'brokers', 'etc', 'implemented', 'systems', 'controls', 'regarding', 'fof', 'prepared', 'regular', 'updates', 'internal', 'reporting', 'investors', 'analyzed', 'equity', 'project', 'feasibility', 'perspective', 'overall', 'industry', 'company', 'growth', 'cash', 'flows', 'cost', 'benefits', 'korea', 'development', 'bank', 'shanghai', 'branch', 'china', 'aug', '2011', 'dec', '2014', 'corporate', 'department', 'relationship', 'manager', 'performed', 'customer', 'due', 'diligence', 'comprehensive', 'services', 'mainly', 'korean', 'companies', 'including', 'loans', 'deposits', 'syndicated', 'loans', 'coordinated', 'headquarter', 'product', 'distribution', 'marketing', 'departments', 'reviewed', 'submitted', 'information', 'loan', 'draw', 'rollover', 'monitored', 'value', 'collateral', 'prepared', 'reports', 'domestic', 'regulatory', 'agencies', 'regular', 'basis', 'additional', 'chinese', 'securities', 'funds', 'futures', 'banking', 'qualification', 'certificates', 'language', 'fluency', 'mandarin', 'english', 'korean', 'business', 'software', 'python', 'wind', 'bloomberg', 'word', 'excel', 'powerpoint', 'outlook', 'hobbies', 'badminton', 'swimming', 'climbing']], ['CV 5.docx', ['jasminder', 'kaur', 'p', 'sadu', 'singh', 'address', '12', 'regat', 'labrooy', 'taman', 'merdeka', '30100', 'ipoh', 'perak', 'contact', '017', '5137195', 'email', 'address', 'jasminkim22', 'gmail', 'com', 'date', 'birth', '22', '03', '1994', 'career', 'aim', 'begin', 'career', 'part', 'leading', 'group', 'hone', 'financial', 'investment', 'skills', 'pave', 'career', 'path', 'developing', 'strong', 'business', 'acumen', 'strong', 'desire', 'challenging', 'career', 'will', 'broaden', 'analytical', 'critical', 'thinking', 'problem', 'solving', 'skills', 'educational', 'background', 'university', 'malaya', '2013', '2016', 'bachelor', 'economics', 'administration', 'anticipated', 'graduation', 'date', 'october', '2017', 'cgpa', '3', '28', 'perak', 'matriculation', 'college', '2012', '2013', 'cgpa', '4', '00', 'muet', 'band', '4', '2013', 'sekolah', 'menengah', 'tarcisian', 'convent', 'ipoh', '2007', '2011', 'spm', '8a', '1a', '1a', 'pmr', '8a', 'co', 'curricular', 'experiences', 'corporate', 'relations', 'member', 'aiesec', '2013', '2014', 'sponsorship', 'member', 'kebajikan', 'anak', 'yatim', 'kebatim', '2013', '2014', 'participant', 'indian', 'dance', 'competition', 'festival', 'kesenian', 'universiti', 'malaya', 'feseni', '2014', 'malaysian', 'national', 'chemistry', 'quiz', 'merit', '2011', 'publicity', 'director', 'interact', 'club', '2011', 'australian', 'national', 'chemistry', 'quiz', 'distinction', '2011', 'anugerah', 'program', 'permata', 'additional', 'mathematics', 'school', 'level', '2011', 'treasurer', 'secondary', 'class', '2010', '2011', 'treasurer', 'secondary', 'school', 'choir', 'society', '2009', '2011', 'represented', 'secondary', 'school', 'national', 'level', 'choir', 'competition', '2009', 'secondary', 'school', 'assembly', 'pianist', '2007', '2011', 'work', 'experience', 'internship', 'sept', '2016', 'dec', '2016', 'tamil', 'selvi', 'agency', 'zurich', 'insurance', 'malaysia', 'berhad', 'ipoh', 'branch', 'skills', 'excellent', 'command', 'english', 'bahasa', 'melayu', 'punjabi', 'spm', 'speaks', 'fluently', 'hindi', 'proficient', 'mandarin', 'level', '1', '2015', 'proficient', 'microsoft', 'excel', '2013', 'business', 'computing', 'course', 'b', 'microsoft', 'word', 'powerpoint', 'advanced', 'spss', 'version', '22', '0', 'intermediate', 'eviews', '9', 'abrsm', 'piano', 'theory', 'grade', '7', 'practical', 'grade', '5', 'interests', 'hobby', 'reading', 'books', 'hiking', 'dancing', 'baking', 'references', 'dr', 'yong', 'sook', 'lu', 'senior', 'lecturer', 'department', 'economics', 'faculty', 'economics', 'administration', 'university', 'malaya', 'tel', '603', '7967', '3717', 'dr', 'santha', 'chenayah', 'ramu', 'senior', 'lecturer', 'department', 'economics', 'faculty', 'economics', 'administration', 'university', 'malaya', 'tel', '603', '7967', '3733']], ['CV 2.docx', ['chew', 'wei', 'yuen', 'dave', 'linkedin', 'link', 'address', 'blk', '121', 'lorong', '2', 'toa', 'payoh', '23', '28', 'singapore', '310121', 'hp', '65', '9756', '4285', 'email', 'weiyuen84', 'gmail', 'com', 'nationality', 'malaysian', 'singapore', 'pr', 'profile', 'professional', 'qualified', 'accountant', 'trained', 'big', '4', 'specialized', 'financial', 'services', 'covering', 'asset', 'management', 'banking', 'past', 'experiences', 'developed', 'optimistic', 'analytical', 'individual', 'strong', 'interpersonal', 'skills', 'work', 'best', 'team', 'leader', 'player', 'career', 'passion', 'build', 'long', 'term', 'rewarding', 'career', 'fast', 'pace', 'moving', 'industry', 'professional', 'qualification', 'april', '2013', 'present', 'cpa', 'australia', 'cpa', 'member', 'membership', '9418079', 'completed', '6', 'professional', 'papers', 'sept', '2011', 'present', 'malaysian', 'institute', 'accountants', 'chartered', 'accountant', 'membership', '33766', 'professional', 'experience', 'may', 'july', '2016', 'ec', 'world', 'asset', 'management', 'pte', 'ltd', 'ec', 'world', 'reit', 'pre', 'ipo', 'contract', 'report', 'ceo', 'cfo', 'handling', 'finance', 'compliance', 'function', 'involved', 'ipo', 'exercise', 'reit', 'fund', 'recently', 'listed', 'sgx', 'st', 'develop', 'compliance', 'manuals', 'risk', 'management', 'policy', 'accordance', 'mas', 'guidelines', 'sgx', 'listing', 'rules', 'setting', 'infrastructure', 'adherence', 'mas', 'guidelines', 'apr', 'dec', '2015', 'contract', 'avenue', 'asia', 'singapore', 'pte', 'ltd', 'avenue', 'capital', 'group', 'assistant', 'manager', 'finance', 'report', 'vp', 'finance', 'based', 'singapore', 'handing', 'full', 'spectrum', 'funds', 'operation', 'accounting', 'reporting', 'asian', 'funds', 'responsible', 'preparation', 'payments', 'wires', 'accordance', 'appropriate', 'spv', 'allocations', 'cash', 'management', 'cash', 'investment', 'reconciliations', 'month', 'end', 'closing', 'profit', 'loss', 'allocations', 'distribution', 'waterfalls', 'ad', 'hoc', 'matters', 'prepare', 'quarterly', 'financial', 'statements', 'fs', 'accordance', 'us', 'gaap', 'asia', 'funds', 'spvs', 'investors', 'reporting', 'capital', 'letters', 'investors', 'support', 'team', 'european', 'fund', 'accounting', 'tasks', 'invest', 'housing', 'assets', 'students', 'hostels', 'uk', 'uk', 'luxembourg', 'structure', 'involved', 'due', 'diligence', 'exercise', 'sell', 'uk', 'assets', 'note', 'role', 'direct', 'recruit', 'pwc', 'auditor', 'previously', 'jan', '2014', 'mar', '2015', 'pricewaterhousecoopers', 'llp', 'singapore', 'senior', 'associate', '2', 'financial', 'services', 'assurance', 'asset', 'management', 'specialized', 'external', 'audit', 'compliance', 'review', 'mutual', 'funds', 'hedge', 'funds', 'private', 'equity', 'venture', 'capital', 'funds', 'firms', 'respective', 'accounting', 'standards', 'securities', 'regulation', 'mas', 'seconded', 'pwc', 'hong', 'kong', 'team', 'auditing', 'asian', 'private', 'equity', 'funds', 'mainly', 'invest', 'distressed', 'assets', 'based', 'singapore', 'managed', 'global', 'asset', 'manager', 'accounted', 'us', 'gaap', 'involved', 'reviewing', 'valuation', 'uncertain', 'tax', 'position', 'investment', 'assets', 'listed', 'unlisted', 'funds', 'management', '2', 'consecutive', 'financial', 'years', 'experienced', 'first', 'year', 'audit', 'newly', 'set', 'start', 'boutique', 'fund', 'management', 'companies', 'assist', 'head', 'partner', 'asia', 'pacific', 'asset', 'management', 'leader', 'introducing', 'new', 'initiative', 'asset', 'management', 'weekly', 'newsletter', 'team', 'support', 'partners', 'group', 'working', 'industry', 'statistics', 'data', 'market', 'research', 'emerging', 'trends', 'business', 'development', 'marketing', 'initiatives', 'singapore', 'asia', 'pacific', 'region', 'nov', '2013', 'jan', '2014', 'tael', 'management', 'co', 'm', 'sdn', 'bhd', 'tael', 'partners', 'assistant', 'vice', 'president', 'finance', 'report', 'finance', 'director', 'executive', 'director', 'handle', 'day', 'day', 'works', 'payments', 'capital', 'calls', 'ad', 'hoc', 'matters', 'primarily', 'responsible', 'coordinating', 'annual', 'statutory', 'audit', 'preparation', 'financial', 'statements', 'funds', 'management', 'prepare', 'monthly', 'valuation', 'pack', 'investors', 'nov', '2012', 'july', '2013', 'cimb', 'principal', 'asset', 'management', 'berhad', 'assistant', 'manager', 'fund', 'accounting', 'reports', 'head', 'settlement', 'fund', 'operation', 'review', 'fs', 'ensure', 'accordance', 'malaysian', 'financial', 'reporting', 'standards', 'mfrs', 'securities', 'commission', 'sc', 'malaysia', 'guidelines', 'prepared', 'team', 'members', 'managing', 'wide', 'range', 'mutual', 'funds', 'conventional', 'shariah', 'islamic', 'management', 'team', 'lead', 'nav', 'pricing', 'team', 'ensure', 'pricing', 'funds', 'management', 'calculated', 'accurately', 'submission', 'federation', 'investment', 'managers', 'malaysia', 'fimm', 'timely', 'manner', 'member', 'working', 'committee', 'global', 'international', 'performance', 'standards', 'gips', 'compliance', 'respond', 'queries', 'manage', 'relationship', 'ranging', 'auditors', 'trustees', 'fund', 'performance', 'trackers', 'fund', 'managers', 'institutional', 'investors', 'etc', 'contribute', 'identifying', 'areas', 'process', 'improvement', 'internal', 'control', 'enhancement', 'jun', '2008', 'nov', '2012', 'ernst', 'young', 'malaysia', 'audit', 'senior', '2', 'kuala', 'lumpur', 'office', 'financial', 'services', 'specialized', 'external', 'audit', 'banking', 'conventional', 'islamic', 'unit', 'trust', 'mutual', 'fund', 'industries', 'involved', 'malaysian', 'largest', 'bank', 'group', 'retail', 'commercial', 'islamic', 'investment', 'arms', 'consecutive', 'three', 'financial', 'years', 'leadership', 'role', 'team', 'lead', 'islamic', 'bank', 'state', 'owned', 'development', 'banks', 'perform', 'managerial', 'role', 'review', 'unit', 'trust', 'various', 'funds', 'include', 'review', 'fs', 'experienced', 'external', 'audit', 'manufacturing', 'trading', 'services', 'industry', 'public', 'listed', 'companies', 'multinational', 'corporation', 'mnc', 'small', 'medium', 'enterprise', 'sme', 'junior', 'years', 'non', 'audit', 'work', 'training', 'facilitator', 'firm', 'house', 'training', 'associates', 'covering', 'bank', 's', 'branch', 'visit', 'area', 'primarily', 'prepared', 'related', 'presentation', 'slides', 'assist', 'report', 'manager', 'advisory', 'work', 'frs', 'readiness', 'project', 'pension', 'funds', 'malaysian', 'civil', 'servants', 'diagnostic', 'level', 'assist', 'manager', 'financial', 'due', 'diligence', 'telecommunication', 's', 'contractor', 'target', 'company', 'via', 'secondment', 'transaction', 'advisory', 'service', 'tas', 'unit', 'one', 'month', 'assist', 'manager', 'preparing', 'accountant', 's', 'report', '1st', 'draft', 'initial', 'public', 'offering', 'ipo', 'application', 'submission', 'securities', 'commission', 'malaysia', 'steel', 'construction', 'company', 'education', '2004', '2008', 'tertiary', 'universiti', 'utara', 'malaysia', 'uum', 'bachelor', 'accounting', 'hons', 'awarded', 'federal', 'scholarship', 'public', 'service', 'department', 'malaysia', 'jpa', 'turned', 'second', 'class', 'upper', 'award', '2003', 'gce', 'level', 'malaysian', 'higher', 'education', 'certificate', 'stpm', '3', 's', '1', 'b', 'malacca', 'high', 'school', 'malacca', 'malaysia', '2001', 'gce', 'o', 'level', 'malaysian', 'education', 'certificate', 'spm', 'passed', 'full', 'credits', 'st', 'francis', 'institution', 'malacca', 'malaysia', 'hard', 'skills', 'advanced', 'microsoft', 'office', '2007', 'accounting', 'standards', 'ifrs', 'us', 'gaap', 'sfrs', 'mfrs', 'securities', 'regulation', 'mas', 'malaysia', 'sc', 'securities', 'futures', 'act', 'corporate', 'asset', 'management', 'taxes', 'fund', 'accounting', 'auditing', 'internal', 'controls', 'bank', 'financial', 'institution', 'investment', 'fund', 'valuation', 'unit', 'trusts', 'hedge', 'funds', 'private', 'equity', 'fund', 'accounting', 'management', 'system', 'geneva', 'pam', 'caat', 'auditing', 'software', 'bloomberg', 'terminal', 'business', 'report', 'writing', 'market', 'research', 'soft', 'skills', 'professional', 'communication', 'presentation', 'ability', 'work', 'pressure', 'meeting', 'deadlines', 'team', 'management', 'leadership', 'critical', 'forward', 'thinker', 'affliations', '1', 'past', 'member', 'aiesec', 'universiti', 'utara', 'malaysia', 'uum', '2', 'past', 'member', 'toastmasters', 'ernst', 'young', 'international', 'language', 'skills', 'written', 'english', 'excellent', 'bahasa', 'malaysia', 'good', 'mandarin', 'basic', 'spoken', 'english', 'excellent', 'bahasa', 'malaysia', 'good', 'chinese', 'dialects', 'mandarin', 'good', 'cantonese', 'hokkien', 'fair']], ['CV 3.docx', ['5', 'tanah', 'merah', 'kechil', 'road', '12', '03', 'singapore', '466665', 'singaporean', '3', 'august', '1993', 'age', '24', '65', '91992949', 'mobile', 'steffimys', 'hotmail', 'com', 'mun', 'yin', 'sein', 'steffi', 'objective', 'looking', 'change', 'working', 'environment', 'commercial', 'experience', 'seeking', 'career', 'challenging', 'rewarding', 'lots', 'opportunities', 'grow', 'within', 'firm', 'skills', 'abilities', 'possesses', 'good', 'written', 'verbal', 'communication', 'skills', 'excellent', 'interpersonal', 'skills', 'good', 'team', 'player', 'software', 'application', 'skills', 'microsoft', 'office', 'language', 'proficiency', 'english', 'fluent', 'mandarin', 'chinese', 'fluent', 'experience', 'kpmg', 'services', 'pte', 'ltd', 'senior', 'audit', 'associate', 'sep', '2015', 'present', 'least', '1', 'month', 'notice', 'period', 'required', 'experienced', 'audit', 'companies', 'food', 'beverage', 'investment', 'property', 'consumer', 'sales', 'industry', 'performed', 'audit', 'various', 'listed', 'non', 'listed', 'companies', 'including', 'following', 'segments', 'audit', 'consolidated', 'accounts', 'set', 'audit', 'work', 'papers', 'listed', 'client', 'taken', 'previous', 'auditors', 'charge', 'audit', 'diverse', 'range', 'sectors', 'including', 'food', 'beverage', 'investment', 'property', 'consumer', 'sales', 'industries', 'planned', 'guided', 'led', 'team', 'towards', 'successful', 'completion', 'engagements', 'time', 'conducted', 'risk', 'assessment', 'designed', 'audit', 'procedures', 'key', 'processes', 'developed', 'communication', 'skills', 'enabled', 'resolving', 'pertinent', 'accounting', 'issues', 'resolving', 'issues', 'clients', 'detailed', 'analysis', 'client', 's', 'processes', 'helped', 'client', 'enhance', 'company', 's', 'internal', 'controls', 'improve', 'operational', 'efficiencies', 'identified', 'significant', 'accounting', 'operational', 'control', 'issues', 'education', 'nanyang', 'technological', 'university', 'aug', '2012', 'may', '2015', 'bachelor', 'accountancy', '2nd', 'class', 'honours', 'victoria', 'junior', 'college', 'jan', '2010', 'dec', '2011', 'gce', 'level', 'certificate', 'tanjong', 'katong', 'girls', 'school', 'jan', '2006', 'dec', '2009', 'gce', 'o', 'level', 'certificate', 'co', 'curricular', 'activities', 'cheerleading', 'sep', '2012', 'feb', '2015', 'displayed', 'teamwork', 'resilience', 'sportsmanship', 'represented', 'hall', 'residence', '9', '2013', '2014', 'hall', 'residence', '11', '2015', 'annual', 'inter', 'hall', 'cheerleading', 'competitions', 'chinese', 'orchestra', 'jan', '2010', 'dec', '2011', 'displayed', 'teamwork', 'perseverance', 'represented', 'victoria', 'junior', 'college', 'attained', 'silver', 'award', '2011', 'singapore', 'youth', 'festival', 'chinese', 'orchestra', 'guzheng', 'ensemble', 'jan', '2010', 'dec', '2011', 'displayed', 'teamwork', 'perseverance', 'represented', 'victoria', 'junior', 'college', 'attained', 'gold', 'award', '2011', 'singapore', 'youth', 'festival', 'guzheng', 'ensemble', 'netball', 'jan', '2006', 'dec', '2009', 'displayed', 'teamwork', 'excellent', 'sportsmanship', 'represented', 'tanjong', 'katong', 'girls', 'school', 's', 'netball', 'team', 'interests', 'baking', 'travelling', 'learning', 'new', 'sports', 'playing', 'guzheng']]]\n"
     ]
    }
   ],
   "source": [
    "print(list_cvs)"
   ]
  },
  {
   "cell_type": "code",
   "execution_count": 111,
   "metadata": {},
   "outputs": [
    {
     "data": {
      "text/html": [
       "<div>\n",
       "<style scoped>\n",
       "    .dataframe tbody tr th:only-of-type {\n",
       "        vertical-align: middle;\n",
       "    }\n",
       "\n",
       "    .dataframe tbody tr th {\n",
       "        vertical-align: top;\n",
       "    }\n",
       "\n",
       "    .dataframe thead th {\n",
       "        text-align: right;\n",
       "    }\n",
       "</style>\n",
       "<table border=\"1\" class=\"dataframe\">\n",
       "  <thead>\n",
       "    <tr style=\"text-align: right;\">\n",
       "      <th></th>\n",
       "      <th>Name</th>\n",
       "      <th>tokenized_text</th>\n",
       "    </tr>\n",
       "  </thead>\n",
       "  <tbody>\n",
       "    <tr>\n",
       "      <th>0</th>\n",
       "      <td>CV 1.docx</td>\n",
       "      <td>[zoe, zhang, xiaming, profile, personal, quali...</td>\n",
       "    </tr>\n",
       "    <tr>\n",
       "      <th>1</th>\n",
       "      <td>CV 4.docx</td>\n",
       "      <td>[weiping, meng, wpmeng, 2016, maf, smu, edu, s...</td>\n",
       "    </tr>\n",
       "    <tr>\n",
       "      <th>2</th>\n",
       "      <td>CV 5.docx</td>\n",
       "      <td>[jasminder, kaur, p, sadu, singh, address, 12,...</td>\n",
       "    </tr>\n",
       "    <tr>\n",
       "      <th>3</th>\n",
       "      <td>CV 2.docx</td>\n",
       "      <td>[chew, wei, yuen, dave, linkedin, link, addres...</td>\n",
       "    </tr>\n",
       "    <tr>\n",
       "      <th>4</th>\n",
       "      <td>CV 3.docx</td>\n",
       "      <td>[5, tanah, merah, kechil, road, 12, 03, singap...</td>\n",
       "    </tr>\n",
       "  </tbody>\n",
       "</table>\n",
       "</div>"
      ],
      "text/plain": [
       "        Name                                     tokenized_text\n",
       "0  CV 1.docx  [zoe, zhang, xiaming, profile, personal, quali...\n",
       "1  CV 4.docx  [weiping, meng, wpmeng, 2016, maf, smu, edu, s...\n",
       "2  CV 5.docx  [jasminder, kaur, p, sadu, singh, address, 12,...\n",
       "3  CV 2.docx  [chew, wei, yuen, dave, linkedin, link, addres...\n",
       "4  CV 3.docx  [5, tanah, merah, kechil, road, 12, 03, singap..."
      ]
     },
     "execution_count": 111,
     "metadata": {},
     "output_type": "execute_result"
    }
   ],
   "source": [
    "data.head()"
   ]
  },
  {
   "cell_type": "code",
   "execution_count": 115,
   "metadata": {},
   "outputs": [],
   "source": [
    "data2=pd.DataFrame(words)"
   ]
  }
 ],
 "metadata": {
  "kernelspec": {
   "display_name": "Python 3",
   "language": "python",
   "name": "python3"
  },
  "language_info": {
   "codemirror_mode": {
    "name": "ipython",
    "version": 3
   },
   "file_extension": ".py",
   "mimetype": "text/x-python",
   "name": "python",
   "nbconvert_exporter": "python",
   "pygments_lexer": "ipython3",
   "version": "3.9.1"
  }
 },
 "nbformat": 4,
 "nbformat_minor": 4
}
