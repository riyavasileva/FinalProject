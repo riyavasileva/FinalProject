{
 "cells": [
  {
   "cell_type": "markdown",
   "metadata": {},
   "source": [
    "# Pre-processing Job Description "
   ]
  },
  {
   "cell_type": "markdown",
   "metadata": {},
   "source": [
    "For our models, we have focused on a job description for a Data Analyst role. \n",
    "Source: \n",
    "- https://careers.getyourguide.com/positions/engineering/data-analyst-business-analytics/berlin/\n",
    "\n",
    "In this notebook, we will explore extracting key words from the job description that we can use to map with CVs. \n",
    "\n",
    "In the end of this notebook, I have added two \"bonus\" things- just two of the many more stuff I tried. These are not part of the project as the codes are entirely copied, I just wanted to learn from them and see what will be the results and how different with the one I did :) "
   ]
  },
  {
   "cell_type": "markdown",
   "metadata": {},
   "source": [
    "# Importing libraries"
   ]
  },
  {
   "cell_type": "code",
   "execution_count": 1,
   "metadata": {},
   "outputs": [],
   "source": [
    "import pandas as pd\n",
    "import numpy as np\n",
    "import datetime\n",
    "import warnings\n",
    "\n",
    "warnings.filterwarnings('ignore')\n",
    "warnings.filterwarnings(\"ignore\", message=\"numpy.ufunc size changed\")\n",
    "\n",
    "import matplotlib.pyplot as plt\n",
    "import seaborn as sns\n",
    "sns.set_style(\"whitegrid\")\n",
    "\n",
    "%matplotlib inline\n",
    "from collections import Counter\n",
    "import nltk\n",
    "from nltk.tokenize import sent_tokenize, word_tokenize \n",
    "from nltk.text import Text\n",
    "import docx2txt"
   ]
  },
  {
   "cell_type": "code",
   "execution_count": 3,
   "metadata": {},
   "outputs": [],
   "source": [
    "import os\n",
    "import re\n",
    "from nltk.tokenize import word_tokenize\n",
    "import gensim\n",
    "from gensim.models.phrases import Phraser, Phrases"
   ]
  },
  {
   "cell_type": "code",
   "execution_count": 26,
   "metadata": {},
   "outputs": [],
   "source": [
    "#loading the job description\n",
    "jd_da=docx2txt.process(\"Data Analyst_JD.docx\")"
   ]
  },
  {
   "cell_type": "code",
   "execution_count": 27,
   "metadata": {},
   "outputs": [
    {
     "data": {
      "text/plain": [
       "'As a Data Analyst, you will help drive measurement, strategy, and tactical decision-making within GetYourGuide. You will solve problems that could range from forecasting the ticket sales of our some of our key attractions, analyzing the success of our new product features, help develop strategies to improve customer service experience, or help our sales team decide which tours to acquire.\\n\\n\\n\\nResponsibilities:\\n\\n\\n\\nDevelop quantitative analysis to drive business & product decisions\\n\\nExplore large datasets, give meaning to data and numbers, identify opportunities and issues, and present findings to stakeholders\\n\\nDeliver analysis, insights, and recommendations to business teams to make impactful decisions\\n\\nDesign and implement metrics, dashboards, and reports\\n\\nServe as a liaison between the business teams and the data engineering team \\n\\nRequirements: \\n\\n\\n\\n2-3 years of relevant experience interpreting data in an analytics, data science or business intelligence role\\n\\nStrong knowledge of SQL \\n\\nExperience with data visualization and reporting tools (e.g. Looker, Jupyter Notebooks)\\n\\nCuriosity, reasoning skills with proven evidence of problem solving.\\n\\nAbility to understand user behavior and meaning behind the numbers\\n\\nDesire to work in an international environment, with minimal direction and with highly engaged individuals\\n\\nGreat communication skills\\n\\nNice to have:\\n\\n\\n\\nExperience in business analytics/strategy is a plus\\n\\nDemonstrated ability to understand the business of a tech company\\n\\nFamiliarity with statistical packages (e.g. R, Python)\\n\\nExperience with big data tools (e.g. Spark, Hive) is a plus'"
      ]
     },
     "execution_count": 27,
     "metadata": {},
     "output_type": "execute_result"
    }
   ],
   "source": [
    "jd_da"
   ]
  },
  {
   "cell_type": "markdown",
   "metadata": {},
   "source": [
    "# Pre-processing text data"
   ]
  },
  {
   "cell_type": "markdown",
   "metadata": {},
   "source": [
    "* Tokenising the document\n",
    "* Removing punctuation\n",
    "* Converting to lowercase\n",
    "* Removing stop words\n",
    "* Lemmatising the tokens"
   ]
  },
  {
   "cell_type": "code",
   "execution_count": 28,
   "metadata": {},
   "outputs": [
    {
     "name": "stdout",
     "output_type": "stream",
     "text": [
      "['as', 'a', 'data', 'analyst', 'you', 'will', 'help', 'drive', 'measurement', 'strategy', 'and', 'tactical', 'within', 'getyourguide', 'you', 'will', 'solve', 'problems', 'that', 'could', 'range', 'from', 'forecasting', 'the', 'ticket', 'sales', 'of', 'our', 'some', 'of', 'our', 'key', 'attractions', 'analyzing', 'the', 'success', 'of', 'our', 'new', 'product', 'features', 'help', 'develop', 'strategies', 'to', 'improve', 'customer', 'service', 'experience', 'or', 'help', 'our', 'sales', 'team', 'decide', 'which', 'tours', 'to', 'acquire', 'responsibilities', 'develop', 'quantitative', 'analysis', 'to', 'drive', 'business', 'product', 'decisions', 'explore', 'large', 'datasets', 'give', 'meaning', 'to', 'data', 'and', 'numbers', 'identify', 'opportunities', 'and', 'issues', 'and', 'present', 'findings', 'to', 'stakeholders', 'deliver', 'analysis', 'insights', 'and', 'recommendations', 'to', 'business', 'teams', 'to', 'make', 'impactful', 'decisions', 'design', 'and', 'implement', 'metrics', 'dashboards', 'and', 'reports', 'serve', 'as', 'a', 'liaison', 'between', 'the', 'business', 'teams', 'and', 'the', 'data', 'engineering', 'team', 'requirements', 'years', 'of', 'relevant', 'experience', 'interpreting', 'data', 'in', 'an', 'analytics', 'data', 'science', 'or', 'business', 'intelligence', 'role', 'strong', 'knowledge', 'of', 'sql', 'experience', 'with', 'data', 'visualization', 'and', 'reporting', 'tools', 'looker', 'jupyter', 'notebooks', 'curiosity', 'reasoning', 'skills', 'with', 'proven', 'evidence', 'of', 'problem', 'solving', 'ability', 'to', 'understand', 'user', 'behavior', 'and', 'meaning', 'behind', 'the', 'numbers', 'desire', 'to', 'work', 'in', 'an', 'international', 'environment', 'with', 'minimal', 'direction', 'and', 'with', 'highly', 'engaged', 'individuals', 'great', 'communication', 'skills', 'nice', 'to', 'have', 'experience', 'in', 'business', 'is', 'a', 'plus', 'demonstrated', 'ability', 'to', 'understand', 'the', 'business', 'of', 'a', 'tech', 'company', 'familiarity', 'with', 'statistical', 'packages', 'r', 'python', 'experience', 'with', 'big', 'data', 'tools', 'spark', 'hive', 'is', 'a', 'plus']\n"
     ]
    }
   ],
   "source": [
    "#remove punctuation+ lowercase\n",
    "jd_da = nltk.word_tokenize(jd_da)\n",
    "jd_da=[word.lower() for word in jd_da if word.isalpha()]\n",
    "print(jd_da)"
   ]
  },
  {
   "cell_type": "code",
   "execution_count": 29,
   "metadata": {},
   "outputs": [
    {
     "name": "stdout",
     "output_type": "stream",
     "text": [
      "['data', 'analyst', 'help', 'drive', 'measurement', 'strategy', 'tactical', 'within', 'getyourguide', 'solve', 'problems', 'could', 'range', 'forecasting', 'ticket', 'sales', 'key', 'attractions', 'analyzing', 'success', 'new', 'product', 'features', 'help', 'develop', 'strategies', 'improve', 'customer', 'service', 'experience', 'help', 'sales', 'team', 'decide', 'tours', 'acquire', 'responsibilities', 'develop', 'quantitative', 'analysis', 'drive', 'business', 'product', 'decisions', 'explore', 'large', 'datasets', 'give', 'meaning', 'data', 'numbers', 'identify', 'opportunities', 'issues', 'present', 'findings', 'stakeholders', 'deliver', 'analysis', 'insights', 'recommendations', 'business', 'teams', 'make', 'impactful', 'decisions', 'design', 'implement', 'metrics', 'dashboards', 'reports', 'serve', 'liaison', 'business', 'teams', 'data', 'engineering', 'team', 'requirements', 'years', 'relevant', 'experience', 'interpreting', 'data', 'analytics', 'data', 'science', 'business', 'intelligence', 'role', 'strong', 'knowledge', 'sql', 'experience', 'data', 'visualization', 'reporting', 'tools', 'looker', 'jupyter', 'notebooks', 'curiosity', 'reasoning', 'skills', 'proven', 'evidence', 'problem', 'solving', 'ability', 'understand', 'user', 'behavior', 'meaning', 'behind', 'numbers', 'desire', 'work', 'international', 'environment', 'minimal', 'direction', 'highly', 'engaged', 'individuals', 'great', 'communication', 'skills', 'nice', 'experience', 'business', 'plus', 'demonstrated', 'ability', 'understand', 'business', 'tech', 'company', 'familiarity', 'statistical', 'packages', 'r', 'python', 'experience', 'big', 'data', 'tools', 'spark', 'hive', 'plus']\n"
     ]
    }
   ],
   "source": [
    "# filter stopwords\n",
    "from nltk.corpus import stopwords\n",
    "stop_words = set(stopwords.words('english'))\n",
    "\n",
    "jd_da = [token for token in jd_da if token not in stop_words]\n",
    "print(jd_da)"
   ]
  },
  {
   "cell_type": "code",
   "execution_count": 30,
   "metadata": {},
   "outputs": [
    {
     "name": "stdout",
     "output_type": "stream",
     "text": [
      "['data', 'analyst', 'help', 'drive', 'measurement', 'strategy', 'tactical', 'within', 'getyourguide', 'solve', 'problem', 'could', 'range', 'forecasting', 'ticket', 'sale', 'key', 'attraction', 'analyzing', 'success', 'new', 'product', 'feature', 'help', 'develop', 'strategy', 'improve', 'customer', 'service', 'experience', 'help', 'sale', 'team', 'decide', 'tour', 'acquire', 'responsibility', 'develop', 'quantitative', 'analysis', 'drive', 'business', 'product', 'decision', 'explore', 'large', 'datasets', 'give', 'meaning', 'data', 'number', 'identify', 'opportunity', 'issue', 'present', 'finding', 'stakeholder', 'deliver', 'analysis', 'insight', 'recommendation', 'business', 'team', 'make', 'impactful', 'decision', 'design', 'implement', 'metric', 'dashboard', 'report', 'serve', 'liaison', 'business', 'team', 'data', 'engineering', 'team', 'requirement', 'year', 'relevant', 'experience', 'interpreting', 'data', 'analytics', 'data', 'science', 'business', 'intelligence', 'role', 'strong', 'knowledge', 'sql', 'experience', 'data', 'visualization', 'reporting', 'tool', 'looker', 'jupyter', 'notebook', 'curiosity', 'reasoning', 'skill', 'proven', 'evidence', 'problem', 'solving', 'ability', 'understand', 'user', 'behavior', 'meaning', 'behind', 'number', 'desire', 'work', 'international', 'environment', 'minimal', 'direction', 'highly', 'engaged', 'individual', 'great', 'communication', 'skill', 'nice', 'experience', 'business', 'plus', 'demonstrated', 'ability', 'understand', 'business', 'tech', 'company', 'familiarity', 'statistical', 'package', 'r', 'python', 'experience', 'big', 'data', 'tool', 'spark', 'hive', 'plus']\n"
     ]
    }
   ],
   "source": [
    "# Lemmatise document from filtered tokens\n",
    "lemmatizer = nltk.WordNetLemmatizer()\n",
    "jd_da = [lemmatizer.lemmatize(i) for i in jd_da]\n",
    "print(jd_da)"
   ]
  },
  {
   "cell_type": "code",
   "execution_count": 31,
   "metadata": {
    "scrolled": true
   },
   "outputs": [
    {
     "data": {
      "text/plain": [
       "[('data', 7),\n",
       " ('business', 6),\n",
       " ('experience', 5),\n",
       " ('team', 4),\n",
       " ('help', 3),\n",
       " ('drive', 2),\n",
       " ('strategy', 2),\n",
       " ('problem', 2),\n",
       " ('sale', 2),\n",
       " ('product', 2),\n",
       " ('develop', 2),\n",
       " ('analysis', 2),\n",
       " ('decision', 2),\n",
       " ('meaning', 2),\n",
       " ('number', 2),\n",
       " ('tool', 2),\n",
       " ('skill', 2),\n",
       " ('ability', 2),\n",
       " ('understand', 2),\n",
       " ('plus', 2),\n",
       " ('analyst', 1),\n",
       " ('measurement', 1),\n",
       " ('tactical', 1),\n",
       " ('within', 1),\n",
       " ('getyourguide', 1),\n",
       " ('solve', 1),\n",
       " ('could', 1),\n",
       " ('range', 1),\n",
       " ('forecasting', 1),\n",
       " ('ticket', 1),\n",
       " ('key', 1),\n",
       " ('attraction', 1),\n",
       " ('analyzing', 1),\n",
       " ('success', 1),\n",
       " ('new', 1),\n",
       " ('feature', 1),\n",
       " ('improve', 1),\n",
       " ('customer', 1),\n",
       " ('service', 1),\n",
       " ('decide', 1),\n",
       " ('tour', 1),\n",
       " ('acquire', 1),\n",
       " ('responsibility', 1),\n",
       " ('quantitative', 1),\n",
       " ('explore', 1),\n",
       " ('large', 1),\n",
       " ('datasets', 1),\n",
       " ('give', 1),\n",
       " ('identify', 1),\n",
       " ('opportunity', 1)]"
      ]
     },
     "execution_count": 31,
     "metadata": {},
     "output_type": "execute_result"
    }
   ],
   "source": [
    "#just checking most common words\n",
    "from nltk.probability import FreqDist\n",
    "\n",
    "file=FreqDist(jd_da)\n",
    "file.most_common(50)\n",
    "\n",
    "#we will do visualisation in the below function"
   ]
  },
  {
   "cell_type": "markdown",
   "metadata": {},
   "source": [
    "# Method #1: Topic modelling with LDA"
   ]
  },
  {
   "cell_type": "markdown",
   "metadata": {},
   "source": [
    "\"Topic modeling is a type of statistical modeling for discovering the abstract “topics” that occur in a collection of documents.\"\n",
    "\n",
    "Sources: \n",
    "- https://towardsdatascience.com/topic-modeling-and-latent-dirichlet-allocation-in-python-9bf156893c24#:~:text=Topic%20modeling%20is%20a%20type,document%20to%20a%20particular%20topic.\n",
    "- https://towardsdatascience.com/end-to-end-topic-modeling-in-python-latent-dirichlet-allocation-lda-35ce4ed6b3e0"
   ]
  },
  {
   "cell_type": "code",
   "execution_count": 34,
   "metadata": {},
   "outputs": [
    {
     "data": {
      "image/png": "[encoded data removed]",
      "text/plain": [
       "<Figure size 1080x667.491 with 1 Axes>"
      ]
     },
     "metadata": {
      "needs_background": "light"
     },
     "output_type": "display_data"
    }
   ],
   "source": [
    "from sklearn.feature_extraction.text import CountVectorizer\n",
    "\n",
    "#function\n",
    "\n",
    "def top_10_keywords(count_data, count_vectorizer):\n",
    "    import matplotlib.pyplot as plt\n",
    "    words = count_vectorizer.get_feature_names()\n",
    "    total_counts = np.zeros(len(words))\n",
    "    for t in count_data:\n",
    "        total_counts+=t.toarray()[0]\n",
    "    \n",
    "    count_dict = (zip(words, total_counts))\n",
    "    count_dict = sorted(count_dict, key=lambda x:x[1], reverse=True)[0:10]\n",
    "    words = [w[0] for w in count_dict]\n",
    "    counts = [w[1] for w in count_dict]\n",
    "    x_pos = np.arange(len(words)) \n",
    "    \n",
    "    plt.figure(2, figsize=(15, 15/1.6180))\n",
    "    plt.subplot(title='top 10 keywords')\n",
    "    sns.set_context(\"notebook\", font_scale=1.25, rc={\"lines.linewidth\": 2.5})\n",
    "    sns.barplot(x_pos, counts, palette='husl')\n",
    "    plt.xticks(x_pos, words, rotation=90) \n",
    "    plt.xlabel('keywords')\n",
    "    plt.ylabel('counts')\n",
    "    plt.show()\n",
    "\n",
    "# Initialise the count vectorizer with the English stop words\n",
    "count_vectorizer = CountVectorizer(stop_words='english')\n",
    "\n",
    "# Fit and transform the processed titles\n",
    "count_data = count_vectorizer.fit_transform(jd_da)\n",
    "\n",
    "# Visualise the 10 most common words\n",
    "plot_10_most_common_words(count_data, count_vectorizer)"
   ]
  },
  {
   "cell_type": "code",
   "execution_count": 38,
   "metadata": {},
   "outputs": [
    {
     "name": "stdout",
     "output_type": "stream",
     "text": [
      "Topics via LDA:\n",
      "\n",
      "Topic #0:\n",
      "experience ability skill acquire user metric forecasting notebook solving engineering\n",
      "\n",
      "Topic #1:\n",
      "product analysis feature hive spark strong analytics decide big engaged\n",
      "\n",
      "Topic #2:\n",
      "data sale deliver identify present tour ticket highly looker key\n",
      "\n",
      "Topic #3:\n",
      "plus finding knowledge measurement dashboard minimal relevant international interpreting issue\n",
      "\n",
      "Topic #4:\n",
      "business help problem intelligence package engaged requirement make implement engineering\n",
      "\n",
      "Topic #5:\n",
      "meaning science insight report quantitative communication great environment explore direction\n",
      "\n",
      "Topic #6:\n",
      "develop year range statistical getyourguide opportunity demonstrated tactical company new\n",
      "\n",
      "Topic #7:\n",
      "decision large success improve individual proven python responsibility serve solve\n",
      "\n",
      "Topic #8:\n",
      "drive tool strategy tech reasoning curiosity work evidence jupyter behavior\n",
      "\n",
      "Topic #9:\n",
      "team understand number reporting design role recommendation sql customer nice\n"
     ]
    }
   ],
   "source": [
    "import warnings\n",
    "warnings.simplefilter(\"ignore\", DeprecationWarning)\n",
    "\n",
    "# Load the LDA model\n",
    "from sklearn.decomposition import LatentDirichletAllocation as LDA\n",
    " \n",
    "# function\n",
    "def print_topics(model, count_vectorizer, n_top_words):\n",
    "    words = count_vectorizer.get_feature_names()\n",
    "    for topic_idx, topic in enumerate(model.components_):\n",
    "        print(\"\\nTopic #%d:\" % topic_idx)\n",
    "        print(\" \".join([words[i]\n",
    "                        for i in topic.argsort()[:-n_top_words - 1:-1]]))\n",
    "        \n",
    "# Tweak the two parameters below (use int values below 15)\n",
    "number_topics = 10\n",
    "number_words = 10\n",
    "\n",
    "# Create and fit the LDA model\n",
    "lda = LDA(n_components=number_topics)\n",
    "lda.fit(count_data)\n",
    "\n",
    "# Print the topics found by the LDA model\n",
    "print(\"Topics via LDA:\")\n",
    "print_topics(lda, count_vectorizer, number_words)"
   ]
  },
  {
   "cell_type": "markdown",
   "metadata": {},
   "source": [
    "<b>Conclusion: </b>: We won't be able to use this model to evaluate the requirements, too vague.. Also, every time you run the model-> the outcome is different. "
   ]
  },
  {
   "cell_type": "markdown",
   "metadata": {},
   "source": [
    "# Method #2: RAKE (Rapid Automatic Keyword Extraction)"
   ]
  },
  {
   "cell_type": "markdown",
   "metadata": {},
   "source": [
    "\"Rapid Automatic Keyword Extraction is a keyword extraction algorithm that is extremely efficient which operates on individual documents to enable an application to the dynamic collection\"\n",
    "\n",
    "Source:\n",
    "- https://medium.com/datadriveninvestor/rake-rapid-automatic-keyword-extraction-algorithm-f4ec17b2886c"
   ]
  },
  {
   "cell_type": "code",
   "execution_count": 45,
   "metadata": {},
   "outputs": [],
   "source": [
    "from rake_nltk import Rake\n",
    "from collections import Counter\n",
    "import nltk\n",
    "from nltk.tokenize import sent_tokenize, word_tokenize \n",
    "from nltk.text import Text\n",
    "import docx2txt"
   ]
  },
  {
   "cell_type": "code",
   "execution_count": 47,
   "metadata": {},
   "outputs": [],
   "source": [
    "#loading data analyst role- unprocessed\n",
    "text=docx2txt.process(\"/Users/riyavasileva/Ironhack/Final Project/Data Analyst_JD.docx\")"
   ]
  },
  {
   "cell_type": "code",
   "execution_count": 48,
   "metadata": {},
   "outputs": [],
   "source": [
    "r = Rake()\n",
    "r.extract_keywords_from_text(text)\n",
    "phrases = r.get_ranked_phrases_with_scores()"
   ]
  },
  {
   "cell_type": "code",
   "execution_count": 50,
   "metadata": {},
   "outputs": [
    {
     "data": {
      "text/html": [
       "<div>\n",
       "<style scoped>\n",
       "    .dataframe tbody tr th:only-of-type {\n",
       "        vertical-align: middle;\n",
       "    }\n",
       "\n",
       "    .dataframe tbody tr th {\n",
       "        vertical-align: top;\n",
       "    }\n",
       "\n",
       "    .dataframe thead th {\n",
       "        text-align: right;\n",
       "    }\n",
       "</style>\n",
       "<table border=\"1\" class=\"dataframe\">\n",
       "  <thead>\n",
       "    <tr style=\"text-align: right;\">\n",
       "      <th></th>\n",
       "      <th>score</th>\n",
       "      <th>Phrase</th>\n",
       "    </tr>\n",
       "  </thead>\n",
       "  <tbody>\n",
       "    <tr>\n",
       "      <th>0</th>\n",
       "      <td>46.500000</td>\n",
       "      <td>highly engaged individuals great communication...</td>\n",
       "    </tr>\n",
       "    <tr>\n",
       "      <th>1</th>\n",
       "      <td>23.500000</td>\n",
       "      <td>product decisions explore large datasets</td>\n",
       "    </tr>\n",
       "    <tr>\n",
       "      <th>2</th>\n",
       "      <td>22.400000</td>\n",
       "      <td>business intelligence role strong knowledge</td>\n",
       "    </tr>\n",
       "    <tr>\n",
       "      <th>3</th>\n",
       "      <td>16.500000</td>\n",
       "      <td>make impactful decisions design</td>\n",
       "    </tr>\n",
       "    <tr>\n",
       "      <th>4</th>\n",
       "      <td>14.750000</td>\n",
       "      <td>improve customer service experience</td>\n",
       "    </tr>\n",
       "    <tr>\n",
       "      <th>5</th>\n",
       "      <td>14.071429</td>\n",
       "      <td>data engineering team requirements</td>\n",
       "    </tr>\n",
       "    <tr>\n",
       "      <th>6</th>\n",
       "      <td>13.321429</td>\n",
       "      <td>relevant experience interpreting data</td>\n",
       "    </tr>\n",
       "    <tr>\n",
       "      <th>7</th>\n",
       "      <td>10.000000</td>\n",
       "      <td>new product features</td>\n",
       "    </tr>\n",
       "    <tr>\n",
       "      <th>11</th>\n",
       "      <td>9.000000</td>\n",
       "      <td>making within getyourguide</td>\n",
       "    </tr>\n",
       "    <tr>\n",
       "      <th>12</th>\n",
       "      <td>9.000000</td>\n",
       "      <td>develop quantitative analysis</td>\n",
       "    </tr>\n",
       "    <tr>\n",
       "      <th>8</th>\n",
       "      <td>9.000000</td>\n",
       "      <td>tech company familiarity</td>\n",
       "    </tr>\n",
       "    <tr>\n",
       "      <th>10</th>\n",
       "      <td>9.000000</td>\n",
       "      <td>sales team decide</td>\n",
       "    </tr>\n",
       "    <tr>\n",
       "      <th>9</th>\n",
       "      <td>9.000000</td>\n",
       "      <td>stakeholders deliver analysis</td>\n",
       "    </tr>\n",
       "    <tr>\n",
       "      <th>13</th>\n",
       "      <td>8.333333</td>\n",
       "      <td>help develop strategies</td>\n",
       "    </tr>\n",
       "    <tr>\n",
       "      <th>14</th>\n",
       "      <td>8.071429</td>\n",
       "      <td>big data tools</td>\n",
       "    </tr>\n",
       "    <tr>\n",
       "      <th>15</th>\n",
       "      <td>8.000000</td>\n",
       "      <td>understand user behavior</td>\n",
       "    </tr>\n",
       "    <tr>\n",
       "      <th>16</th>\n",
       "      <td>7.833333</td>\n",
       "      <td>help drive measurement</td>\n",
       "    </tr>\n",
       "    <tr>\n",
       "      <th>17</th>\n",
       "      <td>7.000000</td>\n",
       "      <td>plus demonstrated ability</td>\n",
       "    </tr>\n",
       "    <tr>\n",
       "      <th>18</th>\n",
       "      <td>6.500000</td>\n",
       "      <td>reasoning skills</td>\n",
       "    </tr>\n",
       "    <tr>\n",
       "      <th>19</th>\n",
       "      <td>4.900000</td>\n",
       "      <td>drive business</td>\n",
       "    </tr>\n",
       "  </tbody>\n",
       "</table>\n",
       "</div>"
      ],
      "text/plain": [
       "        score                                             Phrase\n",
       "0   46.500000  highly engaged individuals great communication...\n",
       "1   23.500000           product decisions explore large datasets\n",
       "2   22.400000        business intelligence role strong knowledge\n",
       "3   16.500000                    make impactful decisions design\n",
       "4   14.750000                improve customer service experience\n",
       "5   14.071429                 data engineering team requirements\n",
       "6   13.321429              relevant experience interpreting data\n",
       "7   10.000000                               new product features\n",
       "11   9.000000                         making within getyourguide\n",
       "12   9.000000                      develop quantitative analysis\n",
       "8    9.000000                           tech company familiarity\n",
       "10   9.000000                                  sales team decide\n",
       "9    9.000000                      stakeholders deliver analysis\n",
       "13   8.333333                            help develop strategies\n",
       "14   8.071429                                     big data tools\n",
       "15   8.000000                           understand user behavior\n",
       "16   7.833333                             help drive measurement\n",
       "17   7.000000                          plus demonstrated ability\n",
       "18   6.500000                                   reasoning skills\n",
       "19   4.900000                                     drive business"
      ]
     },
     "execution_count": 50,
     "metadata": {},
     "output_type": "execute_result"
    }
   ],
   "source": [
    "summary = pd.DataFrame(phrases,columns=['score','Phrase'])\n",
    "summary = summary.sort_values('score',ascending=False)\n",
    "summary.head(20)"
   ]
  },
  {
   "cell_type": "markdown",
   "metadata": {},
   "source": [
    "# Method #3: Using Gensim library"
   ]
  },
  {
   "cell_type": "code",
   "execution_count": 40,
   "metadata": {},
   "outputs": [],
   "source": [
    "from gensim.summarization import keywords\n",
    "import warnings\n",
    "warnings.filterwarnings(\"ignore\")"
   ]
  },
  {
   "cell_type": "code",
   "execution_count": 74,
   "metadata": {},
   "outputs": [],
   "source": [
    "values = keywords(text=text,split='\\n',scores=True)"
   ]
  },
  {
   "cell_type": "code",
   "execution_count": 75,
   "metadata": {},
   "outputs": [
    {
     "data": {
      "text/html": [
       "<div>\n",
       "<style scoped>\n",
       "    .dataframe tbody tr th:only-of-type {\n",
       "        vertical-align: middle;\n",
       "    }\n",
       "\n",
       "    .dataframe tbody tr th {\n",
       "        vertical-align: top;\n",
       "    }\n",
       "\n",
       "    .dataframe thead th {\n",
       "        text-align: right;\n",
       "    }\n",
       "</style>\n",
       "<table border=\"1\" class=\"dataframe\">\n",
       "  <thead>\n",
       "    <tr style=\"text-align: right;\">\n",
       "      <th></th>\n",
       "      <th>keyword</th>\n",
       "      <th>score</th>\n",
       "    </tr>\n",
       "  </thead>\n",
       "  <tbody>\n",
       "    <tr>\n",
       "      <th>0</th>\n",
       "      <td>data</td>\n",
       "      <td>0.311103</td>\n",
       "    </tr>\n",
       "    <tr>\n",
       "      <th>1</th>\n",
       "      <td>decision</td>\n",
       "      <td>0.255610</td>\n",
       "    </tr>\n",
       "    <tr>\n",
       "      <th>2</th>\n",
       "      <td>decisions</td>\n",
       "      <td>0.255610</td>\n",
       "    </tr>\n",
       "    <tr>\n",
       "      <th>3</th>\n",
       "      <td>experience</td>\n",
       "      <td>0.221352</td>\n",
       "    </tr>\n",
       "    <tr>\n",
       "      <th>4</th>\n",
       "      <td>team</td>\n",
       "      <td>0.195705</td>\n",
       "    </tr>\n",
       "    <tr>\n",
       "      <th>5</th>\n",
       "      <td>teams</td>\n",
       "      <td>0.195705</td>\n",
       "    </tr>\n",
       "    <tr>\n",
       "      <th>6</th>\n",
       "      <td>business</td>\n",
       "      <td>0.174313</td>\n",
       "    </tr>\n",
       "    <tr>\n",
       "      <th>7</th>\n",
       "      <td>product</td>\n",
       "      <td>0.151129</td>\n",
       "    </tr>\n",
       "    <tr>\n",
       "      <th>8</th>\n",
       "      <td>develop</td>\n",
       "      <td>0.148329</td>\n",
       "    </tr>\n",
       "    <tr>\n",
       "      <th>9</th>\n",
       "      <td>skills</td>\n",
       "      <td>0.138911</td>\n",
       "    </tr>\n",
       "  </tbody>\n",
       "</table>\n",
       "</div>"
      ],
      "text/plain": [
       "      keyword     score\n",
       "0        data  0.311103\n",
       "1    decision  0.255610\n",
       "2   decisions  0.255610\n",
       "3  experience  0.221352\n",
       "4        team  0.195705\n",
       "5       teams  0.195705\n",
       "6    business  0.174313\n",
       "7     product  0.151129\n",
       "8     develop  0.148329\n",
       "9      skills  0.138911"
      ]
     },
     "execution_count": 75,
     "metadata": {},
     "output_type": "execute_result"
    }
   ],
   "source": [
    "data = pd.DataFrame(values,columns=['keyword','score'])\n",
    "data = data.sort_values('score',ascending=False)\n",
    "data.head(10)"
   ]
  },
  {
   "cell_type": "markdown",
   "metadata": {},
   "source": [
    "None of the technique was focusing on skills.... SO I looked at CSO-classifier, and spent hours trying to download it.. without any success though. You can see the final view of job skills matching in the notebook \"SkillsMarching_CVs\"\n",
    "Source: https://github.com/angelosalatino/cso-classifier"
   ]
  },
  {
   "cell_type": "markdown",
   "metadata": {},
   "source": [
    "# Conclusion"
   ]
  },
  {
   "cell_type": "markdown",
   "metadata": {},
   "source": [
    "# Bonus: TF-IDF"
   ]
  },
  {
   "cell_type": "markdown",
   "metadata": {},
   "source": [
    "I was just curious to try it out, the code is copied from here: https://kavita-ganesan.com/extracting-keywords-from-text-tfidf/#.X9qdyOlKi3I"
   ]
  },
  {
   "cell_type": "code",
   "execution_count": 81,
   "metadata": {},
   "outputs": [],
   "source": [
    "from sklearn.feature_extraction.text import CountVectorizer\n",
    "import re\n",
    "\n",
    "def get_stop_words(stop_file_path):\n",
    "    \"\"\"load stop words \"\"\"\n",
    "    \n",
    "    with open(stop_file_path, 'r', encoding=\"utf-8\") as f:\n",
    "        stopwords = f.readlines()\n",
    "        stop_set = set(m.strip() for m in stopwords)\n",
    "        return frozenset(stop_set)\n",
    "\n",
    "#load a set of stop words\n",
    "stopwords=get_stop_words(\"stopwords.txt\")\n",
    "\n",
    "#create a vocabulary of words, \n",
    "#ignore words that appear in 85% of documents and eliminate stop words\n",
    "cv=CountVectorizer(max_df=0.85,stop_words=stopwords)\n",
    "word_count_vector=cv.fit_transform(jd_da)"
   ]
  },
  {
   "cell_type": "code",
   "execution_count": 82,
   "metadata": {},
   "outputs": [
    {
     "data": {
      "text/plain": [
       "(149, 109)"
      ]
     },
     "execution_count": 82,
     "metadata": {},
     "output_type": "execute_result"
    }
   ],
   "source": [
    "word_count_vector.shape"
   ]
  },
  {
   "cell_type": "code",
   "execution_count": 83,
   "metadata": {},
   "outputs": [
    {
     "data": {
      "text/plain": [
       "['data',\n",
       " 'analyst',\n",
       " 'help',\n",
       " 'drive',\n",
       " 'measurement',\n",
       " 'strategy',\n",
       " 'tactical',\n",
       " 'getyourguide',\n",
       " 'solve',\n",
       " 'problem']"
      ]
     },
     "execution_count": 83,
     "metadata": {},
     "output_type": "execute_result"
    }
   ],
   "source": [
    "list(cv.vocabulary_.keys())[:10]"
   ]
  },
  {
   "cell_type": "code",
   "execution_count": 84,
   "metadata": {},
   "outputs": [
    {
     "data": {
      "text/plain": [
       "TfidfTransformer()"
      ]
     },
     "execution_count": 84,
     "metadata": {},
     "output_type": "execute_result"
    }
   ],
   "source": [
    "from sklearn.feature_extraction.text import TfidfTransformer\n",
    "\n",
    "tfidf_transformer=TfidfTransformer(smooth_idf=True,use_idf=True)\n",
    "tfidf_transformer.fit(word_count_vector)"
   ]
  },
  {
   "cell_type": "code",
   "execution_count": 85,
   "metadata": {},
   "outputs": [
    {
     "data": {
      "text/plain": [
       "array([4.91202301, 5.31748811, 4.91202301, 5.31748811, 5.31748811,\n",
       "       5.31748811, 5.31748811, 5.31748811, 5.31748811, 4.06472515,\n",
       "       5.31748811, 5.31748811, 5.31748811, 5.31748811, 5.31748811,\n",
       "       3.93119375, 5.31748811, 5.31748811, 4.91202301, 5.31748811,\n",
       "       5.31748811, 5.31748811, 5.31748811, 4.91202301, 5.31748811,\n",
       "       4.91202301, 5.31748811, 5.31748811, 5.31748811, 5.31748811,\n",
       "       4.21887582, 5.31748811, 5.31748811, 5.31748811, 5.31748811,\n",
       "       5.31748811, 5.31748811, 5.31748811, 5.31748811, 4.62434093,\n",
       "       5.31748811, 5.31748811, 5.31748811, 5.31748811, 5.31748811,\n",
       "       5.31748811, 5.31748811, 5.31748811, 5.31748811, 5.31748811,\n",
       "       5.31748811, 5.31748811, 5.31748811, 5.31748811, 5.31748811,\n",
       "       5.31748811, 5.31748811, 5.31748811, 4.91202301, 5.31748811,\n",
       "       5.31748811, 5.31748811, 5.31748811, 5.31748811, 5.31748811,\n",
       "       4.91202301, 5.31748811, 5.31748811, 4.91202301, 5.31748811,\n",
       "       4.91202301, 4.91202301, 5.31748811, 5.31748811, 5.31748811,\n",
       "       5.31748811, 5.31748811, 5.31748811, 5.31748811, 5.31748811,\n",
       "       5.31748811, 5.31748811, 5.31748811, 5.31748811, 4.91202301,\n",
       "       5.31748811, 5.31748811, 5.31748811, 4.91202301, 5.31748811,\n",
       "       5.31748811, 5.31748811, 5.31748811, 5.31748811, 5.31748811,\n",
       "       4.91202301, 5.31748811, 5.31748811, 5.31748811, 4.40119738,\n",
       "       5.31748811, 5.31748811, 4.91202301, 5.31748811, 4.91202301,\n",
       "       5.31748811, 5.31748811, 5.31748811, 5.31748811])"
      ]
     },
     "execution_count": 85,
     "metadata": {},
     "output_type": "execute_result"
    }
   ],
   "source": [
    "tfidf_transformer.idf_"
   ]
  },
  {
   "cell_type": "code",
   "execution_count": 86,
   "metadata": {},
   "outputs": [],
   "source": [
    "def sort_coo(coo_matrix):\n",
    "    tuples = zip(coo_matrix.col, coo_matrix.data)\n",
    "    return sorted(tuples, key=lambda x: (x[1], x[0]), reverse=True)\n",
    "\n",
    "def extract_topn_from_vector(feature_names, sorted_items, topn=10):\n",
    "    \"\"\"get the feature names and tf-idf score of top n items\"\"\"\n",
    "    \n",
    "    #use only topn items from vector\n",
    "    sorted_items = sorted_items[:topn]\n",
    "\n",
    "    score_vals = []\n",
    "    feature_vals = []\n",
    "\n",
    "    for idx, score in sorted_items:\n",
    "        fname = feature_names[idx]\n",
    "        \n",
    "        #keep track of feature name and its corresponding score\n",
    "        score_vals.append(round(score, 3))\n",
    "        feature_vals.append(feature_names[idx])\n",
    "\n",
    "    results= {}\n",
    "    for idx in range(len(feature_vals)):\n",
    "        results[feature_vals[idx]]=score_vals[idx]\n",
    "    \n",
    "    return results"
   ]
  },
  {
   "cell_type": "code",
   "execution_count": 91,
   "metadata": {},
   "outputs": [],
   "source": [
    "# you only needs to do this once\n",
    "feature_names=cv.get_feature_names()\n",
    "\n",
    "#generate tf-idf for the given document\n",
    "tf_idf_vector=tfidf_transformer.transform(cv.transform(jd_da))\n",
    "\n",
    "#sort the tf-idf vectors by descending order of scores\n",
    "sorted_items=sort_coo(tf_idf_vector.tocoo())\n",
    "\n",
    "#extract only the top n; n here is 10\n",
    "keywords=extract_topn_from_vector(feature_names,sorted_items,10)"
   ]
  },
  {
   "cell_type": "code",
   "execution_count": 92,
   "metadata": {},
   "outputs": [
    {
     "name": "stdout",
     "output_type": "stream",
     "text": [
      "\n",
      "=====Body=====\n",
      "['data', 'analyst', 'help', 'drive', 'measurement', 'strategy', 'tactical', 'within', 'getyourguide', 'solve', 'problem', 'could', 'range', 'forecasting', 'ticket', 'sale', 'key', 'attraction', 'analyzing', 'success', 'new', 'product', 'feature', 'help', 'develop', 'strategy', 'improve', 'customer', 'service', 'experience', 'help', 'sale', 'team', 'decide', 'tour', 'acquire', 'responsibility', 'develop', 'quantitative', 'analysis', 'drive', 'business', 'product', 'decision', 'explore', 'large', 'datasets', 'give', 'meaning', 'data', 'number', 'identify', 'opportunity', 'issue', 'present', 'finding', 'stakeholder', 'deliver', 'analysis', 'insight', 'recommendation', 'business', 'team', 'make', 'impactful', 'decision', 'design', 'implement', 'metric', 'dashboard', 'report', 'serve', 'liaison', 'business', 'team', 'data', 'engineering', 'team', 'requirement', 'year', 'relevant', 'experience', 'interpreting', 'data', 'analytics', 'data', 'science', 'business', 'intelligence', 'role', 'strong', 'knowledge', 'sql', 'experience', 'data', 'visualization', 'reporting', 'tool', 'looker', 'jupyter', 'notebook', 'curiosity', 'reasoning', 'skill', 'proven', 'evidence', 'problem', 'solving', 'ability', 'understand', 'user', 'behavior', 'meaning', 'behind', 'number', 'desire', 'work', 'international', 'environment', 'minimal', 'direction', 'highly', 'engaged', 'individual', 'great', 'communication', 'skill', 'nice', 'experience', 'business', 'plus', 'demonstrated', 'ability', 'understand', 'business', 'tech', 'company', 'familiarity', 'statistical', 'package', 'r', 'python', 'experience', 'big', 'data', 'tool', 'spark', 'hive', 'plus']\n",
      "\n",
      "===Keywords===\n",
      "year 1.0\n",
      "work 1.0\n",
      "visualization 1.0\n",
      "user 1.0\n",
      "understand 1.0\n",
      "tour 1.0\n",
      "tool 1.0\n",
      "ticket 1.0\n"
     ]
    }
   ],
   "source": [
    "# now print the results\n",
    "print(\"\\n=====Body=====\")\n",
    "print(jd_da)\n",
    "print(\"\\n===Keywords===\")\n",
    "for k in keywords:\n",
    "    print(k,keywords[k])"
   ]
  },
  {
   "cell_type": "markdown",
   "metadata": {},
   "source": [
    "# Bonus 2: Someone has already done what I spent 10 days to do semi-manually.. "
   ]
  },
  {
   "cell_type": "markdown",
   "metadata": {},
   "source": [
    "Source: https://chatbotslife.com/ranking-resumes-for-a-given-job-description-using-natural-language-processing-a-toy-project-1f49d3156b44"
   ]
  },
  {
   "cell_type": "code",
   "execution_count": 126,
   "metadata": {},
   "outputs": [],
   "source": [
    "import PyPDF2\n",
    "import os\n",
    "from os import listdir\n",
    "from os.path import isfile, join\n",
    "from io import StringIO\n",
    "import pandas as pd\n",
    "from collections import Counter\n",
    "import en_core_web_sm\n",
    "nlp = en_core_web_sm.load()\n",
    "from spacy.matcher import PhraseMatcher"
   ]
  },
  {
   "cell_type": "code",
   "execution_count": 130,
   "metadata": {},
   "outputs": [],
   "source": [
    "#Function to read resumes from the folder one by one\n",
    "mypath='/Users/riyavasileva/Ironhack/Final Project/Resumes1' #enter your path here where you saved the resumes\n",
    "onlyfiles = [os.path.join(mypath, f) for f in os.listdir(mypath) if os.path.isfile(os.path.join(mypath, f))]\n",
    "\n",
    "def pdfextract(file):\n",
    "    fileReader = PyPDF2.PdfFileReader(open(file,'rb'))\n",
    "    countpage = fileReader.getNumPages()\n",
    "    count = 0\n",
    "    text = []\n",
    "    while count < countpage:    \n",
    "        pageObj = fileReader.getPage(count)\n",
    "        count +=1\n",
    "        t = pageObj.extractText()\n",
    "        print (t)\n",
    "        text.append(t)\n",
    "    return text\n",
    "\n",
    "#function to read resume ends"
   ]
  },
  {
   "cell_type": "code",
   "execution_count": 131,
   "metadata": {},
   "outputs": [],
   "source": [
    "#function that does phrase matching and builds a candidate profile\n",
    "def create_profile(file):\n",
    "    text = pdfextract(file) \n",
    "    text = str(text)\n",
    "    text = text.replace(\"\\\\n\", \"\")\n",
    "    text = text.lower()\n",
    "    #below is the csv where we have all the keywords, you can customize your own\n",
    "    keyword_dict = pd.read_csv('DA_skills.csv')\n",
    "    da_words = [nlp(text) for text in keyword_dict['Data Analytics'].dropna(axis = 0)]\n",
    "    stats_words = [nlp(text) for text in keyword_dict['Statistics'].dropna(axis = 0)]\n",
    "    bigdata_words = [nlp(text) for text in keyword_dict['Big Data'].dropna(axis = 0)]\n",
    "    dataviz_words = [nlp(text) for text in keyword_dict['Data Visualization'].dropna(axis = 0)]\n",
    "    tools_words = [nlp(text) for text in keyword_dict['Data Tools'].dropna(axis = 0)]\n",
    "    problemsolving_words = [nlp(text) for text in keyword_dict['Problem Solving'].dropna(axis = 0)]\n",
    "    customer_words = [nlp(text) for text in keyword_dict['Customer Centricity'].dropna(axis = 0)]\n",
    "    adaptability_words = [nlp(text) for text in keyword_dict['Adaptability'].dropna(axis = 0)]\n",
    "    communication_words = [nlp(text) for text in keyword_dict['Communication Skills'].dropna(axis = 0)]\n",
    "\n",
    "    matcher = PhraseMatcher(nlp.vocab)\n",
    "    matcher.add('Data Analytics', None, *da_words)\n",
    "    matcher.add('Statistics', None, *stats_words)\n",
    "    matcher.add('Big Data', None, *bigdata_words)\n",
    "    matcher.add('Data Visualization', None, *dataviz_words)\n",
    "    matcher.add('Data Tools', None, *tools_words)\n",
    "    matcher.add('Problem Solving', None, *problemsolving_words)\n",
    "    matcher.add('Customer Centricity', None, *customer_words)\n",
    "    matcher.add('Adaptability', None, *adaptability_words)\n",
    "    matcher.add('Communication Skills', None, *communication_words)\n",
    "    doc = nlp(text)\n",
    "    \n",
    "    d = []  \n",
    "    matches = matcher(doc)\n",
    "    for match_id, start, end in matches:\n",
    "        rule_id = nlp.vocab.strings[match_id]  # get the unicode ID, i.e. 'COLOR'\n",
    "        span = doc[start : end]  # get the matched slice of the doc\n",
    "        d.append((rule_id, span.text))      \n",
    "    keywords = \"\\n\".join(f'{i[0]} {i[1]} ({j})' for i,j in Counter(d).items())\n",
    "    \n",
    "    ## convertimg string of keywords to dataframe\n",
    "    df = pd.read_csv(StringIO(keywords),names = ['Keywords_List'])\n",
    "    df1 = pd.DataFrame(df.Keywords_List.str.split(' ',1).tolist(),columns = ['Subject','Keyword'])\n",
    "    df2 = pd.DataFrame(df1.Keyword.str.split('(',1).tolist(),columns = ['Keyword', 'Count'])\n",
    "    df3 = pd.concat([df1['Subject'],df2['Keyword'], df2['Count']], axis =1) \n",
    "    df3['Count'] = df3['Count'].apply(lambda x: x.rstrip(\")\"))\n",
    "    \n",
    "    base = os.path.basename(file)\n",
    "    filename = os.path.splitext(base)[0]\n",
    "       \n",
    "    name = filename.split('_')\n",
    "    name2 = name[0]\n",
    "    name2 = name2.lower()\n",
    "    ## converting str to dataframe\n",
    "    name3 = pd.read_csv(StringIO(name2),names = ['Candidate Name'])\n",
    "    \n",
    "    dataf = pd.concat([name3['Candidate Name'], df3['Subject'], df3['Keyword'], df3['Count']], axis = 1)\n",
    "    dataf['Candidate Name'].fillna(dataf['Candidate Name'].iloc[0], inplace = True)\n",
    "\n",
    "    return(dataf)\n",
    "        \n",
    "#function ends"
   ]
  },
  {
   "cell_type": "code",
   "execution_count": null,
   "metadata": {},
   "outputs": [],
   "source": [
    "#code to execute/call the above functions\n",
    "\n",
    "final_database=pd.DataFrame()\n",
    "i = 0 \n",
    "while i < len(onlyfiles):\n",
    "    file = onlyfiles[i]\n",
    "    dat = create_profile(file)\n",
    "    final_database = final_database.append(dat)\n",
    "    i +=1\n",
    "    print(final_database)"
   ]
  },
  {
   "cell_type": "code",
   "execution_count": 108,
   "metadata": {},
   "outputs": [],
   "source": [
    "#code to count words under each category and visulaize it through Matplotlib\n",
    "\n",
    "final_database2 = final_database['Keyword'].groupby([final_database['Candidate Name'], final_database['Subject']]).count().unstack()\n",
    "final_database2.reset_index(inplace = True)\n",
    "final_database2.fillna(0,inplace=True)\n",
    "new_data = final_database2.iloc[:,1:]\n",
    "new_data.index = final_database2['Candidate Name']"
   ]
  },
  {
   "cell_type": "code",
   "execution_count": 109,
   "metadata": {},
   "outputs": [
    {
     "data": {
      "image/png": "[encoded data removed]",
      "text/plain": [
       "<Figure size 1800x504 with 1 Axes>"
      ]
     },
     "metadata": {
      "needs_background": "light"
     },
     "output_type": "display_data"
    }
   ],
   "source": [
    "import matplotlib.pyplot as plt\n",
    "plt.rcParams.update({'font.size': 10})\n",
    "ax = new_data.plot.barh(title=\"Resume keywords by category\", legend=False, figsize=(25,7), stacked=True)\n",
    "labels = []\n",
    "for j in new_data.columns:\n",
    "    for i in new_data.index:\n",
    "        label = str(j)+\": \" + str(new_data.loc[i][j])\n",
    "        labels.append(label)\n",
    "patches = ax.patches\n",
    "for label, rect in zip(labels, patches):\n",
    "    width = rect.get_width()\n",
    "    if width > 0:\n",
    "        x = rect.get_x()\n",
    "        y = rect.get_y()\n",
    "        height = rect.get_height()\n",
    "        ax.text(x + width/2., y + height/2., label, ha='center', va='center')\n",
    "plt.show()"
   ]
  },
  {
   "cell_type": "code",
   "execution_count": null,
   "metadata": {},
   "outputs": [],
   "source": []
  }
 ],
 "metadata": {
  "kernelspec": {
   "display_name": "Python 3",
   "language": "python",
   "name": "python3"
  },
  "language_info": {
   "codemirror_mode": {
    "name": "ipython",
    "version": 3
   },
   "file_extension": ".py",
   "mimetype": "text/x-python",
   "name": "python",
   "nbconvert_exporter": "python",
   "pygments_lexer": "ipython3",
   "version": "3.9.1"
  }
 },
 "nbformat": 4,
 "nbformat_minor": 4
}
